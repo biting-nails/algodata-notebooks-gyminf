{
 "cells": [
  {
   "cell_type": "markdown",
   "metadata": {},
   "source": [
    "# Mergesort"
   ]
  },
  {
   "cell_type": "markdown",
   "metadata": {},
   "source": [
    "In diesem Notebook schauen wir uns Mergesort an und vergleichen diesen mit einem naiven Sortieralgorithmus, nämlich Insertionsort."
   ]
  },
  {
   "cell_type": "markdown",
   "metadata": {},
   "source": [
    "### Insertionsort"
   ]
  },
  {
   "cell_type": "markdown",
   "metadata": {},
   "source": [
    "Der folgende Algorithmus entspricht der klassischen Variante von Insertionsort."
   ]
  },
  {
   "cell_type": "code",
   "execution_count": 1,
   "metadata": {},
   "outputs": [],
   "source": [
    "def insertion_sort(array):\n",
    "      n = len(array)\n",
    "      for i in range(1, n):  # i = 1, ..., n - 1\n",
    "          # move array[i] to the left unxtil it is\n",
    "          # at the correct position.\n",
    "          for j in range(i, 0, -1):  # j = i, ..., 1\n",
    "              if array[j] < array[j-1]:\n",
    "                  # not yet at final position.\n",
    "                  # swap array[j] and array[j-1]\n",
    "                  array[j], array[j-1] = array[j-1], array[j]\n",
    "              else:\n",
    "                  break  # continue with next i"
   ]
  },
  {
   "cell_type": "markdown",
   "metadata": {},
   "source": [
    "#### Laufzeit\n",
    "\n",
    "Im Folgenden messen wir die Laufzeit vom Algorithmus für zufällige Arrays der Grösse 10, 100, 1000 und 10000. "
   ]
  },
  {
   "cell_type": "code",
   "execution_count": 2,
   "metadata": {},
   "outputs": [],
   "source": [
    "import timeit\n",
    "import random"
   ]
  },
  {
   "cell_type": "code",
   "execution_count": 3,
   "metadata": {},
   "outputs": [],
   "source": [
    "def createRandArray(n):\n",
    "    a = [0]*n\n",
    "    for i in range(0, n):\n",
    "        a[i] = random.randint(0, n)\n",
    "    return a"
   ]
  },
  {
   "cell_type": "code",
   "execution_count": 4,
   "metadata": {},
   "outputs": [
    {
     "name": "stdout",
     "output_type": "stream",
     "text": [
      "insertion sort auf 10 Elementen: 2.1333000404410996e-05\n",
      "insertion sort auf 100 Elementen: 0.0013005139999222592\n",
      "insertion sort auf 1000 Elementen: 0.46440303300005326\n",
      "insertion sort auf 10000 Elementen: 37.36733173399989\n"
     ]
    }
   ],
   "source": [
    "for i in range (1, 5):\n",
    "    a = createRandArray(10**i)\n",
    "    t = timeit.timeit(lambda: insertion_sort(a), number=1)\n",
    "    print(\"insertion sort auf \" +str(10**i) + \" Elementen: \" + str(t))"
   ]
  },
  {
   "cell_type": "markdown",
   "metadata": {},
   "source": [
    "Wir sehen hier die typische quadratische Laufzeit. Wenn wir 10 mal mehr Elemente sortieren brauchen wir ca. 100 mal länger. "
   ]
  },
  {
   "cell_type": "markdown",
   "metadata": {},
   "source": [
    "### Merge Sort"
   ]
  },
  {
   "cell_type": "markdown",
   "metadata": {},
   "source": [
    "Der Kern der Merge-Sort-Algorithmus ist die Mergefunktion, die zwei benachbarte bereits sortierte Bereiche einer Sequenz zusammenführt.\n",
    "\n",
    "Der erste Bereich geht dabei von Position `lo` bis einschliesslich Position `mid`, der zweite Bereich von Position `mid+1` bis einschliesslich Position `hi`. Array `tmp` dient als \"Zwischenspeicher\" und muss die gleiche Länge wie `array` haben."
   ]
  },
  {
   "cell_type": "code",
   "execution_count": 9,
   "metadata": {},
   "outputs": [],
   "source": [
    "def merge(array, tmp, lo, mid, hi):\n",
    "    i = lo\n",
    "    j = mid + 1\n",
    "    for k in range(lo, hi + 1):  # k = lo,...,hi\n",
    "        if j > hi or (i <= mid and array[i] <= array[j]):\n",
    "            tmp[k] = array[i]\n",
    "            i += 1\n",
    "        else:\n",
    "            tmp[k] = array[j]\n",
    "            j += 1\n",
    "    for k in range(lo, hi + 1):  # k = lo,...,hi\n",
    "        array[k] = tmp[k]"
   ]
  },
  {
   "cell_type": "code",
   "execution_count": 10,
   "metadata": {},
   "outputs": [
    {
     "name": "stdout",
     "output_type": "stream",
     "text": [
      "[8, 7, 2, 3, 5, 5, 6, 7, 2, 8]\n"
     ]
    }
   ],
   "source": [
    "array = [8, 7, 3, 5, 7, 2, 5, 6, 2, 8]\n",
    "tmp = [0] * len(array)\n",
    "merge(array, tmp, 2, 4, 7)\n",
    "print(array)"
   ]
  },
  {
   "cell_type": "markdown",
   "metadata": {},
   "source": [
    "Die Top-Down-Variante von Mergesort teilt den sortierenden Bereich in zwei etwa gleich grosse Teilbereiche auf, sortiert sie jeweils mit einem rekursiven Aufruf und führt die dann sortierten Teilbereiche wieder mit `merge` zusammen."
   ]
  },
  {
   "cell_type": "code",
   "execution_count": 11,
   "metadata": {},
   "outputs": [],
   "source": [
    "def mergesort(array):\n",
    "    tmp = [0] * len(array)  # [0,...,0] with same size as array\n",
    "    sort_aux(array, tmp, 0, len(array) - 1)\n",
    "\n",
    "def sort_aux(array, tmp, lo, hi):\n",
    "    # print(\"start sorting positions\", lo, \"to\", hi)\n",
    "    if hi <= lo:\n",
    "        return\n",
    "    mid = lo + (hi - lo) // 2\n",
    "    # //: Division mit Abrunden\n",
    "    sort_aux(array, tmp, lo, mid)\n",
    "    sort_aux(array, tmp, mid + 1, hi)\n",
    "    merge(array, tmp, lo, mid, hi)\n",
    "    # print(\"merged\", lo, \"-\", mid, \"and\", mid+1, \"-\", hi)"
   ]
  },
  {
   "cell_type": "code",
   "execution_count": 12,
   "metadata": {},
   "outputs": [
    {
     "name": "stdout",
     "output_type": "stream",
     "text": [
      "[1, 2, 4, 4, 5, 6, 7, 9]\n"
     ]
    }
   ],
   "source": [
    "array = [4, 2, 5, 7, 9, 6, 4, 1]\n",
    "mergesort(array)\n",
    "print(array)"
   ]
  },
  {
   "cell_type": "markdown",
   "metadata": {},
   "source": [
    "Die Bottom-Up-Variante von Mergesort arbeitet iterativ und sortiert erst alle hintereinanderliegenden Teilbereiche der Grösse 2, dann der Grösse 4, dann 8, etc."
   ]
  },
  {
   "cell_type": "code",
   "execution_count": null,
   "metadata": {},
   "outputs": [],
   "source": [
    "def bottom_up_mergesort(array):\n",
    "    n = len(array)\n",
    "    tmp = [0] * n\n",
    "    length = 1\n",
    "    while length < n:\n",
    "        lo = 0\n",
    "        while lo < n - length:\n",
    "            mid = lo + length - 1\n",
    "            hi = min(lo + 2 * length - 1, n - 1)\n",
    "            merge(array, tmp, lo, mid, hi)\n",
    "            # print(\"merged\", lo, \"-\", mid, \"and\", mid+1, \"-\", hi)\n",
    "            lo += 2 * length\n",
    "        length *= 2"
   ]
  },
  {
   "cell_type": "code",
   "execution_count": null,
   "metadata": {},
   "outputs": [],
   "source": [
    "array = [4, 2, 5, 7, 9, 6, 4, 1, 5]\n",
    "bottom_up_mergesort(array)\n",
    "print(array)"
   ]
  },
  {
   "cell_type": "markdown",
   "metadata": {},
   "source": [
    "### Laufzeit Mergesort"
   ]
  },
  {
   "cell_type": "markdown",
   "metadata": {},
   "source": [
    "Auch hier wollen wir nun die Laufzeit vergleichen. "
   ]
  },
  {
   "cell_type": "code",
   "execution_count": 13,
   "metadata": {},
   "outputs": [],
   "source": [
    "import timeit\n",
    "import random"
   ]
  },
  {
   "cell_type": "code",
   "execution_count": 14,
   "metadata": {},
   "outputs": [],
   "source": [
    "def createRandArray(n):\n",
    "    a = [0]*n\n",
    "    for i in range(0, n):\n",
    "        a[i] = random.randint(0, n)\n",
    "    return a"
   ]
  },
  {
   "cell_type": "code",
   "execution_count": 15,
   "metadata": {},
   "outputs": [
    {
     "name": "stdout",
     "output_type": "stream",
     "text": [
      "mergesort auf 10 Elementen: 4.594899974108557e-05\n",
      "mergesort auf 100 Elementen: 0.0002986670001519087\n",
      "mergesort auf 1000 Elementen: 0.0074445220002417045\n",
      "mergesort auf 10000 Elementen: 0.12383974300018963\n",
      "mergesort auf 100000 Elementen: 1.4160505630002262\n",
      "mergesort auf 1000000 Elementen: 16.786702505999983\n"
     ]
    }
   ],
   "source": [
    "for i in range (1, 7):\n",
    "    a = createRandArray(10**i)\n",
    "    t = timeit.timeit(lambda: mergesort(a), number=1)\n",
    "    print(\"mergesort auf \" +str(10**i) + \" Elementen: \" + str(t))"
   ]
  },
  {
   "cell_type": "markdown",
   "metadata": {},
   "source": [
    "Im Gegensatz zu Insertionsort sehen wir nun ein sehr viel besseres Laufzeitverhalten. Die Laufzeit steigt nur leicht überlinear. Im Gegensatz zu insertionsort können wir somit auch sehr grosse Sequenzen effizient sortieren. "
   ]
  },
  {
   "cell_type": "markdown",
   "metadata": {},
   "source": [
    "### Mergesort - Visualisierung"
   ]
  },
  {
   "cell_type": "markdown",
   "metadata": {},
   "source": [
    "Die folgende Visualisierung wurde von Lukas Schaffner, einem Teilnehmer vom GymInf, geschrieben. Damit diese funktioniert müssen Sie das Graphviz Package installieren. Falls Sie die Annaconda Distribution verwenden, können Sie dies mit folgenden Befehlen machen:\n",
    "```\n",
    "conda install -c conda-forge graphviz\n",
    "conda install -c conda-forge python-graphviz\n",
    "```\n",
    "\n",
    "Falls Sie google collab verwenden, installieren Sie das Paket mit folgendem Befehl:\n",
    "```\n",
    "!apt-get -qq install -y graphviz && pip install -q pydot\n",
    "```"
   ]
  },
  {
   "cell_type": "code",
   "execution_count": 16,
   "metadata": {},
   "outputs": [
    {
     "data": {
      "image/svg+xml": [
       "<?xml version=\"1.0\" encoding=\"UTF-8\" standalone=\"no\"?>\r\n",
       "<!DOCTYPE svg PUBLIC \"-//W3C//DTD SVG 1.1//EN\"\r\n",
       " \"http://www.w3.org/Graphics/SVG/1.1/DTD/svg11.dtd\">\r\n",
       "<!-- Generated by graphviz version 2.38.0 (20140413.2041)\r\n",
       " -->\r\n",
       "<!-- Title: %3 Pages: 1 -->\r\n",
       "<svg width=\"543pt\" height=\"467pt\"\r\n",
       " viewBox=\"0.00 0.00 542.65 466.60\" xmlns=\"http://www.w3.org/2000/svg\" xmlns:xlink=\"http://www.w3.org/1999/xlink\">\r\n",
       "<g id=\"graph0\" class=\"graph\" transform=\"scale(1 1) rotate(0) translate(4 462.6)\">\r\n",
       "<title>%3</title>\r\n",
       "<polygon fill=\"white\" stroke=\"none\" points=\"-4,4 -4,-462.6 538.652,-462.6 538.652,4 -4,4\"/>\r\n",
       "<!-- 0 -->\r\n",
       "<g id=\"node1\" class=\"node\"><title>0</title>\r\n",
       "<ellipse fill=\"none\" stroke=\"black\" cx=\"297.326\" cy=\"-440.6\" rx=\"27\" ry=\"18\"/>\r\n",
       "<text text-anchor=\"middle\" x=\"297.326\" y=\"-436.9\" font-family=\"Times New Roman,serif\" font-size=\"14.00\">init</text>\r\n",
       "</g>\r\n",
       "<!-- 1 -->\r\n",
       "<g id=\"node7\" class=\"node\"><title>1</title>\r\n",
       "<ellipse fill=\"none\" stroke=\"black\" cx=\"297.326\" cy=\"-349.123\" rx=\"76.2353\" ry=\"37.4533\"/>\r\n",
       "<text text-anchor=\"middle\" x=\"297.326\" y=\"-360.423\" font-family=\"Times New Roman,serif\" font-size=\"14.00\">lo=0 hi=5</text>\r\n",
       "<text text-anchor=\"middle\" x=\"297.326\" y=\"-345.423\" font-family=\"Times New Roman,serif\" font-size=\"14.00\">[7, 3, 8, 2, 4, 3]</text>\r\n",
       "<text text-anchor=\"middle\" x=\"297.326\" y=\"-330.423\" font-family=\"Times New Roman,serif\" font-size=\"14.00\">[2, 3, 3, 4, 7, 8]</text>\r\n",
       "</g>\r\n",
       "<!-- 0&#45;&gt;1 -->\r\n",
       "<g id=\"edge11\" class=\"edge\"><title>0&#45;&gt;1</title>\r\n",
       "<path fill=\"none\" stroke=\"black\" d=\"M297.326,-422.348C297.326,-415.042 297.326,-406.14 297.326,-397.116\"/>\r\n",
       "<polygon fill=\"black\" stroke=\"black\" points=\"300.826,-396.953 297.326,-386.953 293.826,-396.953 300.826,-396.953\"/>\r\n",
       "</g>\r\n",
       "<!-- 4 -->\r\n",
       "<g id=\"node2\" class=\"node\"><title>4</title>\r\n",
       "<ellipse fill=\"none\" stroke=\"black\" cx=\"52.3259\" cy=\"-26.8701\" rx=\"52.1524\" ry=\"26.7407\"/>\r\n",
       "<text text-anchor=\"middle\" x=\"52.3259\" y=\"-30.6701\" font-family=\"Times New Roman,serif\" font-size=\"14.00\">lo=0 hi=0</text>\r\n",
       "<text text-anchor=\"middle\" x=\"52.3259\" y=\"-15.6701\" font-family=\"Times New Roman,serif\" font-size=\"14.00\">[7]</text>\r\n",
       "</g>\r\n",
       "<!-- 3 -->\r\n",
       "<g id=\"node3\" class=\"node\"><title>3</title>\r\n",
       "<ellipse fill=\"none\" stroke=\"black\" cx=\"113.326\" cy=\"-127.217\" rx=\"52.1524\" ry=\"37.4533\"/>\r\n",
       "<text text-anchor=\"middle\" x=\"113.326\" y=\"-138.517\" font-family=\"Times New Roman,serif\" font-size=\"14.00\">lo=0 hi=1</text>\r\n",
       "<text text-anchor=\"middle\" x=\"113.326\" y=\"-123.517\" font-family=\"Times New Roman,serif\" font-size=\"14.00\">[7, 3]</text>\r\n",
       "<text text-anchor=\"middle\" x=\"113.326\" y=\"-108.517\" font-family=\"Times New Roman,serif\" font-size=\"14.00\">[3, 7]</text>\r\n",
       "</g>\r\n",
       "<!-- 3&#45;&gt;4 -->\r\n",
       "<g id=\"edge1\" class=\"edge\"><title>3&#45;&gt;4</title>\r\n",
       "<path fill=\"none\" stroke=\"black\" d=\"M92.5038,-92.6465C86.2039,-82.4895 79.2894,-71.3417 72.9993,-61.2005\"/>\r\n",
       "<polygon fill=\"black\" stroke=\"black\" points=\"75.9087,-59.251 67.6634,-52.5978 69.9601,-62.9407 75.9087,-59.251\"/>\r\n",
       "</g>\r\n",
       "<!-- 5 -->\r\n",
       "<g id=\"node4\" class=\"node\"><title>5</title>\r\n",
       "<ellipse fill=\"none\" stroke=\"black\" cx=\"175.326\" cy=\"-26.8701\" rx=\"52.1524\" ry=\"26.7407\"/>\r\n",
       "<text text-anchor=\"middle\" x=\"175.326\" y=\"-30.6701\" font-family=\"Times New Roman,serif\" font-size=\"14.00\">lo=1 hi=1</text>\r\n",
       "<text text-anchor=\"middle\" x=\"175.326\" y=\"-15.6701\" font-family=\"Times New Roman,serif\" font-size=\"14.00\">[3]</text>\r\n",
       "</g>\r\n",
       "<!-- 3&#45;&gt;5 -->\r\n",
       "<g id=\"edge2\" class=\"edge\"><title>3&#45;&gt;5</title>\r\n",
       "<path fill=\"none\" stroke=\"black\" d=\"M134.489,-92.6465C140.893,-82.4895 147.92,-71.3417 154.314,-61.2005\"/>\r\n",
       "<polygon fill=\"black\" stroke=\"black\" points=\"157.365,-62.9237 159.737,-52.5978 151.443,-59.1906 157.365,-62.9237\"/>\r\n",
       "</g>\r\n",
       "<!-- 2 -->\r\n",
       "<g id=\"node5\" class=\"node\"><title>2</title>\r\n",
       "<ellipse fill=\"none\" stroke=\"black\" cx=\"236.326\" cy=\"-238.17\" rx=\"52.1524\" ry=\"37.4533\"/>\r\n",
       "<text text-anchor=\"middle\" x=\"236.326\" y=\"-249.47\" font-family=\"Times New Roman,serif\" font-size=\"14.00\">lo=0 hi=2</text>\r\n",
       "<text text-anchor=\"middle\" x=\"236.326\" y=\"-234.47\" font-family=\"Times New Roman,serif\" font-size=\"14.00\">[7, 3, 8]</text>\r\n",
       "<text text-anchor=\"middle\" x=\"236.326\" y=\"-219.47\" font-family=\"Times New Roman,serif\" font-size=\"14.00\">[3, 7, 8]</text>\r\n",
       "</g>\r\n",
       "<!-- 2&#45;&gt;3 -->\r\n",
       "<g id=\"edge3\" class=\"edge\"><title>2&#45;&gt;3</title>\r\n",
       "<path fill=\"none\" stroke=\"black\" d=\"M204.009,-208.544C188.595,-194.89 169.996,-178.415 153.665,-163.949\"/>\r\n",
       "<polygon fill=\"black\" stroke=\"black\" points=\"155.66,-161.041 145.854,-157.03 151.019,-166.281 155.66,-161.041\"/>\r\n",
       "</g>\r\n",
       "<!-- 6 -->\r\n",
       "<g id=\"node6\" class=\"node\"><title>6</title>\r\n",
       "<ellipse fill=\"none\" stroke=\"black\" cx=\"236.326\" cy=\"-127.217\" rx=\"52.1524\" ry=\"26.7407\"/>\r\n",
       "<text text-anchor=\"middle\" x=\"236.326\" y=\"-131.017\" font-family=\"Times New Roman,serif\" font-size=\"14.00\">lo=2 hi=2</text>\r\n",
       "<text text-anchor=\"middle\" x=\"236.326\" y=\"-116.017\" font-family=\"Times New Roman,serif\" font-size=\"14.00\">[8]</text>\r\n",
       "</g>\r\n",
       "<!-- 2&#45;&gt;6 -->\r\n",
       "<g id=\"edge4\" class=\"edge\"><title>2&#45;&gt;6</title>\r\n",
       "<path fill=\"none\" stroke=\"black\" d=\"M236.326,-200.587C236.326,-188.944 236.326,-176.073 236.326,-164.454\"/>\r\n",
       "<polygon fill=\"black\" stroke=\"black\" points=\"239.826,-164.207 236.326,-154.207 232.826,-164.207 239.826,-164.207\"/>\r\n",
       "</g>\r\n",
       "<!-- 1&#45;&gt;2 -->\r\n",
       "<g id=\"edge5\" class=\"edge\"><title>1&#45;&gt;2</title>\r\n",
       "<path fill=\"none\" stroke=\"black\" d=\"M277.521,-312.749C272.032,-302.945 266.014,-292.196 260.314,-282.016\"/>\r\n",
       "<polygon fill=\"black\" stroke=\"black\" points=\"263.348,-280.269 255.408,-273.254 257.24,-283.689 263.348,-280.269\"/>\r\n",
       "</g>\r\n",
       "<!-- 7 -->\r\n",
       "<g id=\"node11\" class=\"node\"><title>7</title>\r\n",
       "<ellipse fill=\"none\" stroke=\"black\" cx=\"359.326\" cy=\"-238.17\" rx=\"52.1524\" ry=\"37.4533\"/>\r\n",
       "<text text-anchor=\"middle\" x=\"359.326\" y=\"-249.47\" font-family=\"Times New Roman,serif\" font-size=\"14.00\">lo=3 hi=5</text>\r\n",
       "<text text-anchor=\"middle\" x=\"359.326\" y=\"-234.47\" font-family=\"Times New Roman,serif\" font-size=\"14.00\">[2, 4, 3]</text>\r\n",
       "<text text-anchor=\"middle\" x=\"359.326\" y=\"-219.47\" font-family=\"Times New Roman,serif\" font-size=\"14.00\">[2, 3, 4]</text>\r\n",
       "</g>\r\n",
       "<!-- 1&#45;&gt;7 -->\r\n",
       "<g id=\"edge10\" class=\"edge\"><title>1&#45;&gt;7</title>\r\n",
       "<path fill=\"none\" stroke=\"black\" d=\"M317.456,-312.749C323.034,-302.945 329.151,-292.196 334.944,-282.016\"/>\r\n",
       "<polygon fill=\"black\" stroke=\"black\" points=\"338.027,-283.676 339.931,-273.254 331.943,-280.214 338.027,-283.676\"/>\r\n",
       "</g>\r\n",
       "<!-- 9 -->\r\n",
       "<g id=\"node8\" class=\"node\"><title>9</title>\r\n",
       "<ellipse fill=\"none\" stroke=\"black\" cx=\"328.326\" cy=\"-26.8701\" rx=\"52.1524\" ry=\"26.7407\"/>\r\n",
       "<text text-anchor=\"middle\" x=\"328.326\" y=\"-30.6701\" font-family=\"Times New Roman,serif\" font-size=\"14.00\">lo=3 hi=3</text>\r\n",
       "<text text-anchor=\"middle\" x=\"328.326\" y=\"-15.6701\" font-family=\"Times New Roman,serif\" font-size=\"14.00\">[2]</text>\r\n",
       "</g>\r\n",
       "<!-- 8 -->\r\n",
       "<g id=\"node9\" class=\"node\"><title>8</title>\r\n",
       "<ellipse fill=\"none\" stroke=\"black\" cx=\"359.326\" cy=\"-127.217\" rx=\"52.1524\" ry=\"37.4533\"/>\r\n",
       "<text text-anchor=\"middle\" x=\"359.326\" y=\"-138.517\" font-family=\"Times New Roman,serif\" font-size=\"14.00\">lo=3 hi=4</text>\r\n",
       "<text text-anchor=\"middle\" x=\"359.326\" y=\"-123.517\" font-family=\"Times New Roman,serif\" font-size=\"14.00\">[2, 4]</text>\r\n",
       "<text text-anchor=\"middle\" x=\"359.326\" y=\"-108.517\" font-family=\"Times New Roman,serif\" font-size=\"14.00\">[2, 4]</text>\r\n",
       "</g>\r\n",
       "<!-- 8&#45;&gt;9 -->\r\n",
       "<g id=\"edge6\" class=\"edge\"><title>8&#45;&gt;9</title>\r\n",
       "<path fill=\"none\" stroke=\"black\" d=\"M348.046,-90.4331C345.254,-81.5745 342.264,-72.0883 339.478,-63.249\"/>\r\n",
       "<polygon fill=\"black\" stroke=\"black\" points=\"342.785,-62.0973 336.44,-53.6121 336.108,-64.2018 342.785,-62.0973\"/>\r\n",
       "</g>\r\n",
       "<!-- 10 -->\r\n",
       "<g id=\"node10\" class=\"node\"><title>10</title>\r\n",
       "<ellipse fill=\"none\" stroke=\"black\" cx=\"451.326\" cy=\"-26.8701\" rx=\"52.1524\" ry=\"26.7407\"/>\r\n",
       "<text text-anchor=\"middle\" x=\"451.326\" y=\"-30.6701\" font-family=\"Times New Roman,serif\" font-size=\"14.00\">lo=4 hi=4</text>\r\n",
       "<text text-anchor=\"middle\" x=\"451.326\" y=\"-15.6701\" font-family=\"Times New Roman,serif\" font-size=\"14.00\">[4]</text>\r\n",
       "</g>\r\n",
       "<!-- 8&#45;&gt;10 -->\r\n",
       "<g id=\"edge7\" class=\"edge\"><title>8&#45;&gt;10</title>\r\n",
       "<path fill=\"none\" stroke=\"black\" d=\"M387.931,-95.6384C398.835,-83.9822 411.268,-70.6913 422.218,-58.9858\"/>\r\n",
       "<polygon fill=\"black\" stroke=\"black\" points=\"424.893,-61.2495 429.169,-51.5556 419.781,-56.4674 424.893,-61.2495\"/>\r\n",
       "</g>\r\n",
       "<!-- 7&#45;&gt;8 -->\r\n",
       "<g id=\"edge8\" class=\"edge\"><title>7&#45;&gt;8</title>\r\n",
       "<path fill=\"none\" stroke=\"black\" d=\"M359.326,-200.587C359.326,-192.412 359.326,-183.633 359.326,-175.106\"/>\r\n",
       "<polygon fill=\"black\" stroke=\"black\" points=\"362.826,-174.889 359.326,-164.889 355.826,-174.889 362.826,-174.889\"/>\r\n",
       "</g>\r\n",
       "<!-- 11 -->\r\n",
       "<g id=\"node12\" class=\"node\"><title>11</title>\r\n",
       "<ellipse fill=\"none\" stroke=\"black\" cx=\"482.326\" cy=\"-127.217\" rx=\"52.1524\" ry=\"26.7407\"/>\r\n",
       "<text text-anchor=\"middle\" x=\"482.326\" y=\"-131.017\" font-family=\"Times New Roman,serif\" font-size=\"14.00\">lo=5 hi=5</text>\r\n",
       "<text text-anchor=\"middle\" x=\"482.326\" y=\"-116.017\" font-family=\"Times New Roman,serif\" font-size=\"14.00\">[3]</text>\r\n",
       "</g>\r\n",
       "<!-- 7&#45;&gt;11 -->\r\n",
       "<g id=\"edge9\" class=\"edge\"><title>7&#45;&gt;11</title>\r\n",
       "<path fill=\"none\" stroke=\"black\" d=\"M391.643,-208.544C409.296,-192.907 431.125,-173.57 448.942,-157.788\"/>\r\n",
       "<polygon fill=\"black\" stroke=\"black\" points=\"451.652,-160.063 456.817,-150.813 447.011,-154.823 451.652,-160.063\"/>\r\n",
       "</g>\r\n",
       "</g>\r\n",
       "</svg>\r\n"
      ],
      "text/plain": [
       "<graphviz.dot.Digraph at 0x20a1b3bf4c8>"
      ]
     },
     "execution_count": 16,
     "metadata": {},
     "output_type": "execute_result"
    }
   ],
   "source": [
    "from graphviz import Digraph\n",
    "\n",
    "def merge(array, tmp, lo, mid, hi):\n",
    "    i = lo\n",
    "    j = mid + 1\n",
    "    for k in range(lo, hi + 1): # k = lo,...,hi\n",
    "        if j > hi or (i <= mid and array[i] <= array[j]):\n",
    "            tmp[k] = array[i]\n",
    "            i += 1\n",
    "        else: # j <= hi and (i > mid or array[i] > array[j])\n",
    "            tmp[k] = array[j]\n",
    "            j += 1\n",
    "    for k in range(lo, hi + 1): # k = lo,...,hi\n",
    "        array[k] = tmp[k]\n",
    "\n",
    "def mergeSortDrawTree(array):\n",
    "    global nodeCounter,dot\n",
    "    nodeCounter = 0\n",
    "    dot = Digraph()\n",
    "    dot.node(str(nodeCounter),\"init\")\n",
    "   \n",
    "    tmp = [0] * len(array) # [0,...,0] with same size as array\n",
    "    mergeSortAuxDrawTree(array, tmp, 0, len(array) - 1, nodeCounter)\n",
    "    return dot\n",
    "\n",
    "def mergeSortAuxDrawTree(array, tmp, lo, hi, prevNodeCounter):\n",
    "    global nodeCounter,dot\n",
    "    nodeCounter+=1\n",
    "    currentNodeCounter = nodeCounter\n",
    "    unsortedList = str(array[lo:hi+1])\n",
    "   \n",
    "    if hi <= lo:\n",
    "        dot.node(str(currentNodeCounter),\"lo=\"+str(lo)+\" hi=\"+str(hi)+\"\\n\"+str(array[lo:hi+1]))\n",
    "        dot.edge(str(prevNodeCounter),str(currentNodeCounter))\n",
    "        return\n",
    "    mid = lo + (hi - lo) // 2\n",
    "    mergeSortAuxDrawTree(array, tmp, lo, mid, currentNodeCounter)\n",
    "    mergeSortAuxDrawTree(array, tmp, mid + 1, hi, currentNodeCounter)\n",
    "    merge(array, tmp, lo, mid, hi)\n",
    "   \n",
    "    dot.node(str(currentNodeCounter),\"lo=\"+str(lo)+\" hi=\"+str(hi)+\"\\n\"+unsortedList+\"\\n\"+str(array[lo:hi+1]))\n",
    "    dot.edge(str(prevNodeCounter),str(currentNodeCounter))\n",
    "\n",
    "mergeSortDrawTree([7,3,8,2,4,3])"
   ]
  },
  {
   "cell_type": "code",
   "execution_count": null,
   "metadata": {},
   "outputs": [],
   "source": []
  }
 ],
 "metadata": {
  "kernelspec": {
   "display_name": "Python 3",
   "language": "python",
   "name": "python3"
  },
  "language_info": {
   "codemirror_mode": {
    "name": "ipython",
    "version": 3
   },
   "file_extension": ".py",
   "mimetype": "text/x-python",
   "name": "python",
   "nbconvert_exporter": "python",
   "pygments_lexer": "ipython3",
   "version": "3.7.4"
  },
  "toc": {
   "base_numbering": 1,
   "nav_menu": {},
   "number_sections": false,
   "sideBar": false,
   "skip_h1_title": false,
   "title_cell": "Table of Contents",
   "title_sidebar": "Contents",
   "toc_cell": false,
   "toc_position": {},
   "toc_section_display": false,
   "toc_window_display": false
  }
 },
 "nbformat": 4,
 "nbformat_minor": 2
}
