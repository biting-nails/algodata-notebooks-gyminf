{
 "cells": [
  {
   "cell_type": "markdown",
   "metadata": {},
   "source": [
    "# Geordnete Symboltabellen"
   ]
  },
  {
   "cell_type": "markdown",
   "metadata": {},
   "source": [
    "In diesem Notebook schauen wir uns Geordnete Symboltabellen an. Diese unterstützen neben den üblichen Methoden wie ```put``` und ```get``` weitere, ordnungsbasierte Methoden. "
   ]
  },
  {
   "cell_type": "markdown",
   "metadata": {},
   "source": [
    "Diese Methoden können sowohl für Symboltabellen die mit Binärer Suche implementiert sind, als auch für Binärsuchbäume implementiert werden. Wir zeigen hier nur die Implementation mit binären Suchbäumen. Die Implementation mit Binärer Suche ist sehr einfach und wir empfehlen Ihnen, diese als Übung zu machen. "
   ]
  },
  {
   "cell_type": "markdown",
   "metadata": {},
   "source": [
    "#### Definition vom Binärer Suchbaum mit Ordnungsoperationen\n",
    "\n",
    "Wir definieren uns die Datenstruktur *binärer Suchbaum* genau wie im letzten Notebook eingeführt. Um die Übersichtlichkeit zu erhöhen, implementieren wir nur die Methode ```put``` und ```size```, sowie die  neuen, ordnungsbasierten Operationen. Bevor Sie die Implementation im Detail studieren, sollten Sie sich das entsprechende Video angeschaut haben. "
   ]
  },
  {
   "cell_type": "code",
   "execution_count": 7,
   "metadata": {},
   "outputs": [],
   "source": [
    "class BSTWithOrderedOps:\n",
    "    \n",
    "    class Node:\n",
    "        def __init__(self, key, value, count = 1):\n",
    "            self.key = key\n",
    "            self.value = value\n",
    "            self.left = None\n",
    "            self.right = None\n",
    "            self.count = count\n",
    "    \n",
    "    def __init__(self):\n",
    "        self._root = None\n",
    "    \n",
    "    def root(self):\n",
    "        return self._root\n",
    "    \n",
    "    def size(self):\n",
    "        return self._size(self._root)\n",
    "    \n",
    "    def _size(self, root):\n",
    "        if (root == None):\n",
    "            return 0\n",
    "        else:\n",
    "            return root.count\n",
    "            \n",
    "    def put(self, key, value):\n",
    "        self._root = self._put(key, value, self._root)\n",
    "    \n",
    "    def _put(self, key, value, node):\n",
    "        if (node == None):\n",
    "            return BSTWithOrderedOps.Node(key, value, 1)\n",
    "        elif key < node.key:\n",
    "            node.left = self._put(key, value, node.left)\n",
    "        elif key > node.key:\n",
    "            node.right = self._put(key, value, node.right)\n",
    "        elif key == node.key:\n",
    "            node.value = value\n",
    "        node.count = 1 + self._size(node.left) + self._size(node.right)\n",
    "        return node\n",
    "        \n",
    "    def min(self):\n",
    "        return self._min(self._root).key\n",
    "    \n",
    "    def _min(self, node):\n",
    "        if node.left == None:\n",
    "            return node\n",
    "        else:\n",
    "            return self._min(node.left)\n",
    "    \n",
    "    def floor(self, key):\n",
    "        return self._floor(self._root, key).key\n",
    "    \n",
    "    def _floor(self, node, key):\n",
    "        if node == None:\n",
    "            return None;\n",
    "        \n",
    "        if key == node.key:\n",
    "            return node\n",
    "        elif key <  node.key:\n",
    "            return self._floor(node.left, key)\n",
    "        else:\n",
    "            t = self._floor(node.right, key)\n",
    "            if t != None:\n",
    "                return t\n",
    "            else: \n",
    "                return node\n",
    "            \n",
    "    def select(self, k):\n",
    "        return self._select(self._root, k).key\n",
    "\n",
    "    def _select(self, node, k):\n",
    "        if node == None:\n",
    "            return None\n",
    "        t = self._size(node.left);\n",
    "        if t > k: \n",
    "            return self._select(node.left,  k)\n",
    "        elif t < k:\n",
    "            return self._select(node.right, k - t - 1)\n",
    "        else:\n",
    "            return node;\n",
    "        \n",
    "    def rank(self, key):\n",
    "        return self._rank(self._root, key)\n",
    "    \n",
    "    def _rank(self, node, key):\n",
    "        if node == None:\n",
    "            return 0\n",
    "    \n",
    "        if key < node.key: \n",
    "            return self._rank(node.left, key)\n",
    "        elif key > node.key:\n",
    "            return 1 + self._size(node.left) + self._rank(node.right, key)\n",
    "        else:\n",
    "            return self._size(node.left)\n",
    "        \n",
    "    def keys(self, lo, hi):\n",
    "        keyList = []\n",
    "        self._keys(self._root, lo, hi, keyList)\n",
    "        return keyList\n",
    "    \n",
    "    def _keys(self, node, lo, hi, keyList):\n",
    "        if node == None:\n",
    "            return \n",
    "        \n",
    "        self._keys(node.left, lo, hi, keyList)\n",
    "        if node.key >= lo and node.key <= hi:\n",
    "            keyList.append(node.key)\n",
    "        self._keys(node.right, lo, hi, keyList)\n",
    "            \n",
    "        "
   ]
  },
  {
   "cell_type": "markdown",
   "metadata": {},
   "source": [
    "Nun können wir unsere Implementation testen:"
   ]
  },
  {
   "cell_type": "code",
   "execution_count": 8,
   "metadata": {},
   "outputs": [
    {
     "name": "stdout",
     "output_type": "stream",
     "text": [
      "min:  A\n",
      "floor(G): E\n",
      "rank(S): 11\n",
      "select(7): N\n",
      "keys: ['M', 'N', 'O', 'P', 'R', 'S', 'T']\n"
     ]
    }
   ],
   "source": [
    "bst = BSTWithOrderedOps()\n",
    "for key in list(\"MATHEMATICSANDCOMPUTERSCIENCE\"):\n",
    "    bst.put(key, \"value\")\n",
    "    \n",
    "    \n",
    "\n",
    "print(\"min: \", bst.min())\n",
    "print(\"floor(G): \"+ bst.floor(\"G\"))\n",
    "print(\"rank(S): \" + str(bst.rank(\"S\")))\n",
    "print(\"select(7): \" + bst.select(7))\n",
    "print(\"keys: \" + str(bst.keys(\"M\", \"T\")))"
   ]
  },
  {
   "cell_type": "markdown",
   "metadata": {},
   "source": [
    "\n",
    "#### Übung\n",
    "\n",
    "* Experimentieren Sie mit den Methoden um genau verstehen, was diese machen.\n",
    "    * Was passiert, wenn Sie die Methode ```select``` auf den von ```rank``` zurückgelieferten Wert anwenden?\n",
    "* Ergänzen Sie den Code um print Statements um nachvollziehen zu können, wie die Methoden genau funktionieren\n",
    "    * Testen Sie verschiedene Fälle aus (Schlüssel vorhanden, nicht vorhanden, ...)\n"
   ]
  },
  {
   "cell_type": "code",
   "execution_count": null,
   "metadata": {},
   "outputs": [],
   "source": []
  }
 ],
 "metadata": {
  "anaconda-cloud": {},
  "kernelspec": {
   "display_name": "Python 3",
   "language": "python",
   "name": "python3"
  },
  "language_info": {
   "codemirror_mode": {
    "name": "ipython",
    "version": 3
   },
   "file_extension": ".py",
   "mimetype": "text/x-python",
   "name": "python",
   "nbconvert_exporter": "python",
   "pygments_lexer": "ipython3",
   "version": "3.7.4"
  },
  "toc": {
   "base_numbering": 1,
   "nav_menu": {},
   "number_sections": false,
   "sideBar": false,
   "skip_h1_title": false,
   "title_cell": "Table of Contents",
   "title_sidebar": "Contents",
   "toc_cell": false,
   "toc_position": {},
   "toc_section_display": false,
   "toc_window_display": false
  }
 },
 "nbformat": 4,
 "nbformat_minor": 1
}
