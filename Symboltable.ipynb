{
 "cells": [
  {
   "cell_type": "markdown",
   "metadata": {},
   "source": [
    "# Symboltabellen"
   ]
  },
  {
   "cell_type": "markdown",
   "metadata": {},
   "source": [
    "In diesem Notebook schauen wir uns Symboltabellen an. Wir diskutieren eine sehr einfache Implementation, die auf einem geordneten Array basiert.\n",
    "\n",
    "Bevor wir aber zur Implementation kommen, machen wir noch einen kleinen Exkurs zum Thema Objektgleichheit in Python."
   ]
  },
  {
   "cell_type": "markdown",
   "metadata": {},
   "source": [
    "### Objektgleichheit"
   ]
  },
  {
   "cell_type": "markdown",
   "metadata": {},
   "source": [
    "Die wichtigste Operation in Symboltabellen ist das Suchen von zu einem Schlüssel dazugehörenden Wert. Diese Operation liefert den Wert in der Symboltabelle zurück, der unter dem Schlüssel in der Symboltabelle gespeichert ist, der *gleich* dem Anfrageschlüssel ist. Die *Gleichheit* von Schlüsseln spielt hier also eine wichtige Rolle. Deshalb werden wir uns, bevor wir zu den Implementationen kommen, zuerst Objektgleichheit in Python genauer anschauen. "
   ]
  },
  {
   "cell_type": "markdown",
   "metadata": {},
   "source": [
    "Intuitiv ist uns klar, was es bedeutet, dass zwei Objekte gleich sind. Zum Beispiel wissen wir, dass wenn"
   ]
  },
  {
   "cell_type": "code",
   "execution_count": null,
   "metadata": {},
   "outputs": [],
   "source": [
    "s1 = \"Hallo\"\n",
    "s2 = \"Hallo\""
   ]
  },
  {
   "cell_type": "markdown",
   "metadata": {},
   "source": [
    "dann sollte auch s1 und s2 gleich sein. Also möchten wir, dass folgender Ausdruck ```true``` ergibt:"
   ]
  },
  {
   "cell_type": "code",
   "execution_count": null,
   "metadata": {},
   "outputs": [],
   "source": [
    "s1 == s2"
   ]
  },
  {
   "cell_type": "markdown",
   "metadata": {},
   "source": [
    "Für die von Python vordefinierten Typen wie Strings, Int, Float, etc. stimmt dies auch tatsächlich. Wenn wir aber unsere eigenen Typen definieren, wird die Sache etwas schwieriger. Wir veranschaulichen dies am Beispiel der Klasse Datum, die wir wie folgt definieren:"
   ]
  },
  {
   "cell_type": "code",
   "execution_count": null,
   "metadata": {},
   "outputs": [],
   "source": [
    "class Date:\n",
    "    def __init__(self, day, month, year):\n",
    "        self.day = day\n",
    "        self.month = month\n",
    "        self.year = year"
   ]
  },
  {
   "cell_type": "markdown",
   "metadata": {},
   "source": [
    "Jetzt beobachten wir, was passiert, wenn wir zwei Objekte vom Typ Datum vergleichen:"
   ]
  },
  {
   "cell_type": "code",
   "execution_count": null,
   "metadata": {},
   "outputs": [],
   "source": [
    "d1 = Date(1, 1, 2018)\n",
    "d2 = Date(1, 1, 2018)\n",
    "d1 == d2"
   ]
  },
  {
   "cell_type": "markdown",
   "metadata": {},
   "source": [
    "Wir sehen, dass die Objekte ```d1``` und ```d2``` von Python als ungleich erachtet werden. Der Grund ist, dass per default die Gleichheit nur auf Objektidentitäten definiert ist. Das bedeutet, es wird nur verglichen, ob es sich um das gleiche Objekt handelt, aber nicht, ob der Inhalt gleich ist. Wenn wir Objekte als Schlüssel für Symboltabellen verwenden wollen, reicht diese Definition von Gleichheit nicht aus."
   ]
  },
  {
   "cell_type": "markdown",
   "metadata": {},
   "source": [
    "Damit wir auch für benutzerdefinierte Typen richtige Objektgleichheit haben, müssen wir die Methode ```__eq__``` implementieren. Diese Methode muss eine Äquivalenzrelation definieren, also folgende Anforderungen erfüllen:\n",
    "\n",
    "* Reflexivität: $x == x$ ist wahr\n",
    "* Symmetrie: $x == y$ genau dann, wenn $y == x$\n",
    "* Transitivität: $x ==y $ und $y == z$ dann $x == z$"
   ]
  },
  {
   "cell_type": "markdown",
   "metadata": {},
   "source": [
    "In der Praxis ist die Implementation der Methode ```__eq__``` meist sehr einfach, da wir diese direkt über die Felder der Klasse definieren können. "
   ]
  },
  {
   "cell_type": "code",
   "execution_count": null,
   "metadata": {},
   "outputs": [],
   "source": [
    "class Date:\n",
    "    def __init__(self, day, month, year):\n",
    "        self.day = day\n",
    "        self.month = month\n",
    "        self.year = year\n",
    "        \n",
    "    def __eq__(self, rhs):\n",
    "        return self.day == rhs.day \\\n",
    "            and self.month == rhs.month \\\n",
    "            and self.year == rhs.year"
   ]
  },
  {
   "cell_type": "markdown",
   "metadata": {},
   "source": [
    "Wenn wir jetzt nochmals zwei Objekte vom Typ ```Date``` definieren, sollte alles richtig funktionieren:"
   ]
  },
  {
   "cell_type": "code",
   "execution_count": null,
   "metadata": {},
   "outputs": [],
   "source": [
    "d1 = Date(1, 1, 2018)\n",
    "d2 = Date(1, 1, 2018)\n",
    "d3 = Date (2, 2, 2018)\n",
    "print(\"d1==d2: \", d1 == d2)\n",
    "print(\"d1==d3: \", d1 == d3)\n",
    "print(\"d1!=d3: \", d1 != d3)\n"
   ]
  },
  {
   "cell_type": "markdown",
   "metadata": {},
   "source": [
    "## Implementation 1: Implementation mit geordnetem Array"
   ]
  },
  {
   "cell_type": "markdown",
   "metadata": {},
   "source": [
    "Wir kommen nun zur ersten einfachen Implementation einer Symboltabelle. Das Herzstück dieser Implementation ist die Methode ```rank```, welche, gegeben einen Schlüssel und ein geordnetes Array, die Anzahl Elemente im Array zurückgibt, die kleiner als der Schlüssel sind. "
   ]
  },
  {
   "cell_type": "code",
   "execution_count": null,
   "metadata": {},
   "outputs": [],
   "source": [
    "def rank(a , key ):\n",
    "    lo = 0\n",
    "    hi = len(a) - 1\n",
    "    while lo  <= hi:\n",
    "        mid = (lo + hi) // 2        \n",
    "        if  a[mid] < key:\n",
    "            lo = mid + 1\n",
    "        elif  key  < a[mid]:\n",
    "            hi = mid - 1\n",
    "        else:\n",
    "            return mid\n",
    "    return lo"
   ]
  },
  {
   "cell_type": "markdown",
   "metadata": {},
   "source": [
    "#### Übung:\n",
    "\n",
    "* Machen Sie eine erfolgreiche und erfolglose Suchanfrage und vergewissern Sie sich, dass der Rückgabewert genau der Anzahl Elementen entspricht, die kleiner als der gesuchte Schlüssel sind. "
   ]
  },
  {
   "cell_type": "markdown",
   "metadata": {},
   "source": [
    "Die Implementation der Symboltabelle ist nun  einfach. Die Idee ist, dass wir die Schlüssel in einem sortierten Array speichern. Die Werte werden in einem separaten Array an der entsprechenden Position gespeichert. Dank der Methode ```rank``` können wir effizient die Stelle im Array finden, in der wir den Schlüssel erwarten oder wo wir den neuen Schlüssel einfügen müssen."
   ]
  },
  {
   "cell_type": "code",
   "execution_count": 1,
   "metadata": {},
   "outputs": [],
   "source": [
    "class BinarySearchST:\n",
    "    \n",
    "    def __init__(self):\n",
    "        self._keys = []\n",
    "        self._values = []\n",
    "    \n",
    "    \n",
    "    def _rank(self, value):\n",
    "        lo = 0\n",
    "        hi = len(self._keys) - 1\n",
    "        while lo  <= hi:\n",
    "            mid = lo + (hi - lo) // 2\n",
    "            if  self._keys[mid] < value:\n",
    "                lo = mid + 1\n",
    "            elif  value  < self._keys[mid]:\n",
    "                hi = mid - 1\n",
    "            else:\n",
    "                return mid\n",
    "        return lo\n",
    "    \n",
    "    def get(self, key):\n",
    "        if self.isEmpty():\n",
    "            return None\n",
    "        \n",
    "        rank = self._rank(key)\n",
    "        if rank < len(self._keys) and self._keys[rank] == key:\n",
    "            return self._values[rank]\n",
    "        else:\n",
    "            return None\n",
    "        \n",
    "    def put(self, key, value):\n",
    "        rank = self._rank(key)\n",
    "        if rank < len(self._keys) and self._keys[rank] == key:\n",
    "            self._values[rank] = value\n",
    "        else:\n",
    "            self._keys.insert(rank, key)\n",
    "            self._values.insert(rank, value)\n",
    "             \n",
    "    def delete(self, key):\n",
    "        rank = self._rank(key)\n",
    "        if rank < len(self._keys) and self._keys[rank] == key:\n",
    "            del self._keys[rank] \n",
    "            del self._values[rank]\n",
    "            \n",
    "    \n",
    "    def contains(self, key):\n",
    "        rank = self._rank(key)\n",
    "        return rank < len(self._keys) and self._keys[rank] == key\n",
    "    \n",
    "    def isEmpty(self):\n",
    "        return self.size() == 0\n",
    "    \n",
    "    def size(self):\n",
    "        return len(self._keys)\n",
    "    \n",
    "    def keys(self):\n",
    "        return self._keys"
   ]
  },
  {
   "cell_type": "markdown",
   "metadata": {},
   "source": [
    "#### Übung:\n",
    "* Schauen Sie sich die Implementation genau an. Wie wird ```rank``` verwendet? Was muss jeweils zusätzlich noch gemacht werden?\n",
    "\n"
   ]
  },
  {
   "cell_type": "markdown",
   "metadata": {},
   "source": [
    "### Clients"
   ]
  },
  {
   "cell_type": "markdown",
   "metadata": {},
   "source": [
    "Im Folgenden zeigen wir die Nutzung unserer Symboltabelle an zwei einfachen Beispielen:"
   ]
  },
  {
   "cell_type": "markdown",
   "metadata": {},
   "source": [
    "#### Testclient\n",
    "\n",
    "Unser erster Client nimmt jeden Buchstaben von einem String als Key und die Position des Buchstabens im String als Wert."
   ]
  },
  {
   "cell_type": "code",
   "execution_count": 2,
   "metadata": {},
   "outputs": [],
   "source": [
    "string = \"SEARCHEXAMPLE\"\n",
    "st = BinarySearchST()\n",
    "for (pos, char) in enumerate(string):\n",
    "    st.put(char, pos)"
   ]
  },
  {
   "cell_type": "markdown",
   "metadata": {},
   "source": [
    "Um alle Objekte auszugeben, gehen wir durch alle Schlüssel und geben die dazugehörigen Werte aus:"
   ]
  },
  {
   "cell_type": "code",
   "execution_count": 3,
   "metadata": {},
   "outputs": [
    {
     "name": "stdout",
     "output_type": "stream",
     "text": [
      "key: A Wert: 8\n",
      "key: C Wert: 4\n",
      "key: E Wert: 12\n",
      "key: H Wert: 5\n",
      "key: L Wert: 11\n",
      "key: M Wert: 9\n",
      "key: P Wert: 10\n",
      "key: R Wert: 3\n",
      "key: S Wert: 0\n",
      "key: X Wert: 7\n"
     ]
    }
   ],
   "source": [
    "for k in st.keys():\n",
    "    print(\"key: \" +str(k) + \" Wert: \" +str(st.get(k)))"
   ]
  },
  {
   "cell_type": "markdown",
   "metadata": {},
   "source": [
    "##### Übung:\n",
    "\n",
    "* Ersetzen Sie einen bereits vorhandenen Schlüssel mit der Methode ```put```. Was passiert?"
   ]
  },
  {
   "cell_type": "code",
   "execution_count": null,
   "metadata": {},
   "outputs": [],
   "source": []
  },
  {
   "cell_type": "markdown",
   "metadata": {},
   "source": [
    "#### Frequency Client\n",
    "\n",
    "Unser zweiter Client zeigt eine erste sinnvolle Anwendung von Symboltabellen. Er zählt, wie oft ein bestimmes Wort in einem Text vorkommt."
   ]
  },
  {
   "cell_type": "markdown",
   "metadata": {},
   "source": [
    "Als Erstes bereiten wir einen Text auf. Wir nutzen den folgenden Ausschnitt aus \"Alice's Adventures in Wonderland\". Damit wir nicht durch die Satzzeichen gestört werden, entfernen wir diese zuerst. "
   ]
  },
  {
   "cell_type": "code",
   "execution_count": 4,
   "metadata": {},
   "outputs": [],
   "source": [
    "testdataRaw = \"\"\" Alice was beginning to get very tired of \n",
    "sitting by her sister on the bank, and of having nothing to \n",
    "do:  once or twice she had peeped into the book her sister \n",
    "was reading, but it had no pictures or conversations in it, `and what is the use of a book,'\n",
    "thought Alice `without pictures or conversation?'\n",
    "\n",
    "  So she was considering in her own mind (as well as she could,\n",
    "for the hot day made her feel very sleepy and stupid), whether\n",
    "the pleasure of making a daisy-chain would be worth the trouble\n",
    "of getting up and picking the daisies, when suddenly a White\n",
    "Rabbit with pink eyes ran close by her.\n",
    "\n",
    "  There was nothing so VERY remarkable in that; nor did Alice\n",
    "think it so VERY much out of the way to hear the Rabbit say to\n",
    "itself, `Oh dear!  Oh dear!  I shall be late!'  (when she thought\n",
    "it over afterwards, it occurred to her that she ought to have\n",
    "wondered at this, but at the time it all seemed quite natural);\n",
    "but when the Rabbit actually TOOK A WATCH OUT OF ITS WAISTCOAT-\n",
    "POCKET, and looked at it, and then hurried on, Alice started to\n",
    "her feet, for it flashed across her mind that she had never\n",
    "before seen a rabbit with either a waistcoat-pocket, or a watch to\n",
    "take out of it, and burning with curiosity, she ran across the\n",
    "field after it, and fortunately was just in time to see it pop\n",
    "down a large rabbit-hole under the hedge.\n",
    "\"\"\"\n",
    "import string\n",
    "translator = str.maketrans('', '', string.punctuation)\n",
    "testdata = testdataRaw.translate(translator).lower()"
   ]
  },
  {
   "cell_type": "markdown",
   "metadata": {},
   "source": [
    "##### Übung: \n",
    "\n",
    "* Was macht die Python Methode translate? Explorieren Sie.\n"
   ]
  },
  {
   "cell_type": "markdown",
   "metadata": {},
   "source": [
    "Nun iterieren wir durch alle Wörter und nutzen das Wort jeweils als Schlüssel. Für jeden Schlüssel speichern wir dann, wie oft wir diesen Schlüssel (also das Wort) bereits im Text gesehen haben. "
   ]
  },
  {
   "cell_type": "code",
   "execution_count": 5,
   "metadata": {},
   "outputs": [],
   "source": [
    "st = BinarySearchST()\n",
    "for word in testdata.split():\n",
    "    if len(word) > 5:\n",
    "        if st.contains(word):\n",
    "            st.put(word, st.get(word) + 1)\n",
    "        else:\n",
    "            st.put(word, 1)"
   ]
  },
  {
   "cell_type": "markdown",
   "metadata": {},
   "source": [
    "Wir können nun das Wort, welches am meisten vorkommt, ganz einfach auslesen. Beachten Sie, dass wir uns dazu eine Variable max führen, die immer auf das Wort mit den meisten Einträgen zeigt. Am Anfang wird dies auf ein nicht existierendes Wort, mit 0 Einträgen gesetzt."
   ]
  },
  {
   "cell_type": "code",
   "execution_count": 6,
   "metadata": {},
   "outputs": [
    {
     "name": "stdout",
     "output_type": "stream",
     "text": [
      "rabbit 4\n"
     ]
    }
   ],
   "source": [
    "maximum = \"\"\n",
    "st.put(\"\", 0)\n",
    "for word in st.keys():\n",
    "    if st.get(word) > st.get(maximum):\n",
    "        maximum = word\n",
    "print(maximum, st.get(maximum))"
   ]
  },
  {
   "cell_type": "markdown",
   "metadata": {},
   "source": [
    "#### Übung:\n",
    "* Geben Sie alle im Text vorkommende Wörter, zusammen mit deren Häufigkeit aus"
   ]
  },
  {
   "cell_type": "code",
   "execution_count": 8,
   "metadata": {},
   "outputs": [],
   "source": [
    "# Ihre Lösung"
   ]
  },
  {
   "cell_type": "code",
   "execution_count": null,
   "metadata": {},
   "outputs": [],
   "source": []
  }
 ],
 "metadata": {
  "anaconda-cloud": {},
  "kernelspec": {
   "display_name": "Python 3",
   "language": "python",
   "name": "python3"
  },
  "language_info": {
   "codemirror_mode": {
    "name": "ipython",
    "version": 3
   },
   "file_extension": ".py",
   "mimetype": "text/x-python",
   "name": "python",
   "nbconvert_exporter": "python",
   "pygments_lexer": "ipython3",
   "version": "3.7.4"
  },
  "toc": {
   "base_numbering": 1,
   "nav_menu": {},
   "number_sections": false,
   "sideBar": false,
   "skip_h1_title": false,
   "title_cell": "Table of Contents",
   "title_sidebar": "Contents",
   "toc_cell": false,
   "toc_position": {},
   "toc_section_display": false,
   "toc_window_display": false
  }
 },
 "nbformat": 4,
 "nbformat_minor": 1
}
