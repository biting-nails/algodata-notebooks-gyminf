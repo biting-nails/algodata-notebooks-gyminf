{
 "cells": [
  {
   "cell_type": "markdown",
   "metadata": {},
   "source": [
    "# Quicksort"
   ]
  },
  {
   "cell_type": "markdown",
   "metadata": {},
   "source": [
    "In diesem Notebook schauen wir uns den Quicksort Algorithmus an."
   ]
  },
  {
   "cell_type": "markdown",
   "metadata": {},
   "source": [
    "### Quicksort"
   ]
  },
  {
   "cell_type": "markdown",
   "metadata": {},
   "source": [
    "Der Kern vom Quicksort-Algorithmus ist die Partitionsfunktion, die die Elemente in einem Array so aufteilt, dass alle Elemente links von einem gewählten Pivotelement kleiner oder gleich diesem Element sind, und alle Elemente rechts davon grösser oder gleich dem Pivotelement. "
   ]
  },
  {
   "cell_type": "code",
   "execution_count": 1,
   "metadata": {},
   "outputs": [],
   "source": [
    "def partition(array, lo, hi):\n",
    "    pivot = array[lo]\n",
    "    i = lo + 1\n",
    "    j = hi\n",
    "    while (True):\n",
    "        #print(\"4: \", array, i, j)\n",
    "        while i < hi and array[i] < pivot:\n",
    "            i += 1\n",
    "        \n",
    "        while array[j] > pivot:\n",
    "            j -= 1\n",
    "        if i >= j:\n",
    "            break\n",
    "\n",
    "        #print(\"9: \", array, i, j)\n",
    "    \n",
    "        array[i], array[j] = array[j], array[i]\n",
    "        i, j = i + 1, j - 1\n",
    "        #print(\"14: \", array, i, j)\n",
    "  \n",
    "    array[lo], array[j] = array[j], array[lo]\n",
    "    return j"
   ]
  },
  {
   "cell_type": "code",
   "execution_count": 2,
   "metadata": {},
   "outputs": [
    {
     "name": "stdout",
     "output_type": "stream",
     "text": [
      "[5, 3, 5, 2, 6, 2, 7, 8, 7, 8]\n"
     ]
    }
   ],
   "source": [
    "array = [7, 3, 5, 7, 8, 2, 5, 6, 2, 8]\n",
    "pivot_pos = partition(array, 0, len(array) -1)\n",
    "\n",
    "print(array)"
   ]
  },
  {
   "cell_type": "markdown",
   "metadata": {},
   "source": [
    "Die eigentliche Sortierfunktion ist dann sehr einfach zu implementieren:"
   ]
  },
  {
   "cell_type": "code",
   "execution_count": 14,
   "metadata": {},
   "outputs": [],
   "source": [
    "def quicksort(array):\n",
    "    sort_aux(array, 0, len(array)-1)\n",
    "\n",
    "def choose_pivot_and_swap_it_to_lo_worst_pivot(array, lo, hi):\n",
    "    minval = min(array[lo:(hi + 1)])\n",
    "    minpos = lo + array[lo:(hi + 1)].index(minval)\n",
    "    array[lo], array[minpos] = array[minpos], array[lo]\n",
    "\n",
    "    \n",
    "def choose_pivot_and_swap_it_to_lo_best_pivot(array, lo, hi):\n",
    "    sortedArray = sorted(array[lo:(hi + 1)])\n",
    "    median = sortedArray[(len(sortedArray) - 1) // 2] \n",
    "    medianpos = lo + array[lo:(hi + 1)].index(median)\n",
    "    array[lo], array[medianpos] = array[medianpos], array[lo]\n",
    "        \n",
    "    \n",
    "def sort_aux(array, lo, hi):\n",
    "    if hi <= lo:\n",
    "        return\n",
    "    pivot_pos = partition(array, lo, hi)\n",
    "    sort_aux(array, lo, pivot_pos - 1)\n",
    "    sort_aux(array, pivot_pos + 1, hi)"
   ]
  },
  {
   "cell_type": "code",
   "execution_count": 15,
   "metadata": {},
   "outputs": [
    {
     "name": "stdout",
     "output_type": "stream",
     "text": [
      "[0, 1, 3, 4, 5, 7, 9, 12]\n"
     ]
    }
   ],
   "source": [
    "array = [9,7,1,12,0,3,5,4]\n",
    "#partition(array, 0, 7)\n",
    "quicksort(array)\n",
    "print(array)"
   ]
  },
  {
   "cell_type": "code",
   "execution_count": 16,
   "metadata": {},
   "outputs": [
    {
     "data": {
      "text/plain": [
       "[1, 2, 3, 8, 9]"
      ]
     },
     "execution_count": 16,
     "metadata": {},
     "output_type": "execute_result"
    }
   ],
   "source": [
    "a=[1,2, 3, 8, 9]\n",
    "sorted(a)\n",
    "a"
   ]
  },
  {
   "cell_type": "markdown",
   "metadata": {},
   "source": [
    "#### Übung: \n",
    "Betrachten Sie Sequenz a = $\\langle3, 7, 1, 7, 0, 3, 5, 4\\rangle$.\n",
    "\n",
    "1. Simulieren Sie den Aufruf von partition(a, 0, 7) und geben Sie jeweils den Stand des Arrays und der i- und j-Pointer nach Zeile 4, 9 und 14 an. Was ist der Rückgabewert und wie sieht die Sequenz zum Terminierungszeitpunkt aus?\n",
    "\n",
    "\n",
    "2. Welche Eigenschaft sollte das Pivotelement allgemein günstigenfalls haben? Wählen Sie im folgenden das Pivotelement jeweils optimal, so dass die Anzahl der Aufrufe von sort_aux minimiert wird. Geben Sie die Aufrufe von sort_aux (jeweils mit dem Zustand des Arrays) an, wie sie in einem Durchlauf von sort(a) geschehen.\n",
    "\n",
    "    Geben Sie jeweils an, welches Pivotelement gewählt wird. Bei gleich gut geeigneten Pivotelementen wählen Sie bitte immer die kleinere Zahl und bei gleichen Zahlen, das Element, das gerade weiter vorne in der Sequenz steht. Hinweis Vergessen Sie bitte nicht, dass das Pivotelement in Zeile 8 des Algorithmus an Position lo getauscht wird. Vergessen Sie auch nicht die rekursiven Aufrufe für leere und einelementige Bereiche. Wenn Sie alles richtig machen, sollten Sie insgesamt neun Aufrufe von sort_aux benötigen.\n",
    "\n",
    "\n",
    "3. Was ist allgemein die schlechtestmöglichste Wahl für das Pivotelement? Geben Sie die ersten sieben Aufrufe von sort_aux für den Fall an, dass immer ein möglichst ungünstiges Pivotelement gewählt wird. Bei mehreren Kandidaten wählen Sie bitte wieder das erste. Erkennen Sie ein Muster? Wie viele Aufrufe wird Quicksort in diesem Fall insgesamt benötigen?\n"
   ]
  },
  {
   "cell_type": "code",
   "execution_count": null,
   "metadata": {},
   "outputs": [],
   "source": []
  },
  {
   "cell_type": "markdown",
   "metadata": {},
   "source": []
  },
  {
   "cell_type": "markdown",
   "metadata": {},
   "source": [
    "### Laufzeit Quicksort"
   ]
  },
  {
   "cell_type": "markdown",
   "metadata": {},
   "source": [
    "Auch hier wollen wir nun die Laufzeit vergleichen. "
   ]
  },
  {
   "cell_type": "code",
   "execution_count": 17,
   "metadata": {},
   "outputs": [],
   "source": [
    "import timeit\n",
    "import random"
   ]
  },
  {
   "cell_type": "code",
   "execution_count": 18,
   "metadata": {},
   "outputs": [],
   "source": [
    "def createRandArray(n):\n",
    "    a = [0]*n\n",
    "    for i in range(0, n):\n",
    "        a[i] = random.randint(0, n)\n",
    "    return a"
   ]
  },
  {
   "cell_type": "code",
   "execution_count": 19,
   "metadata": {},
   "outputs": [
    {
     "name": "stdout",
     "output_type": "stream",
     "text": [
      "quicksort auf 10 Elementen: 1.2717999993583362e-05\n",
      "quicksort auf 100 Elementen: 0.0002346670000008544\n",
      "quicksort auf 1000 Elementen: 0.003263997999994217\n",
      "quicksort auf 10000 Elementen: 0.030059065000017426\n",
      "quicksort auf 100000 Elementen: 0.2503584619999799\n",
      "quicksort auf 1000000 Elementen: 3.4289237209999897\n"
     ]
    }
   ],
   "source": [
    "for i in range (1, 7):\n",
    "    a = createRandArray(10**i)\n",
    "    t = timeit.timeit(lambda: quicksort(a), number=1)\n",
    "    print(\"quicksort auf \" +str(10**i) + \" Elementen: \" + str(t))"
   ]
  },
  {
   "cell_type": "code",
   "execution_count": null,
   "metadata": {},
   "outputs": [],
   "source": []
  },
  {
   "cell_type": "markdown",
   "metadata": {},
   "source": [
    "Auch hier sehen wir, dass die Laufzeit nur leicht überlinear ansteigt. Wir können mit quicksort sehr grosse Sequenzen effizient sortieren. "
   ]
  }
 ],
 "metadata": {
  "kernelspec": {
   "display_name": "Python 3",
   "language": "python",
   "name": "python3"
  },
  "language_info": {
   "codemirror_mode": {
    "name": "ipython",
    "version": 3
   },
   "file_extension": ".py",
   "mimetype": "text/x-python",
   "name": "python",
   "nbconvert_exporter": "python",
   "pygments_lexer": "ipython3",
   "version": "3.7.4"
  },
  "toc": {
   "base_numbering": 1,
   "nav_menu": {},
   "number_sections": false,
   "sideBar": false,
   "skip_h1_title": false,
   "title_cell": "Table of Contents",
   "title_sidebar": "Contents",
   "toc_cell": false,
   "toc_position": {},
   "toc_section_display": false,
   "toc_window_display": false
  }
 },
 "nbformat": 4,
 "nbformat_minor": 4
}
