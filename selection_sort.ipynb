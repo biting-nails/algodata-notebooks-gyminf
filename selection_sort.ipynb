{
 "cells": [
  {
   "cell_type": "markdown",
   "metadata": {},
   "source": [
    "# Selection Sort"
   ]
  },
  {
   "cell_type": "markdown",
   "metadata": {},
   "source": [
    "Der folgende Code ist eine Implementation des in der Vorlesung beschriebenen Selection-Sort-Algorithmus."
   ]
  },
  {
   "cell_type": "code",
   "execution_count": 2,
   "metadata": {},
   "outputs": [],
   "source": [
    "def selection_sort(array):\n",
    "    n = len(array)\n",
    "    for i in range(n - 1):\n",
    "\n",
    "        min_index = i\n",
    "        for j in range(i + 1, n):\n",
    "            if array[j] < array[min_index]:\n",
    "                min_index = j\n",
    "        array[i], array[min_index] = array[min_index], array[i]"
   ]
  },
  {
   "cell_type": "markdown",
   "metadata": {},
   "source": [
    "Das Testbeispiel zeigt, dass dieser für Zahlen wie gewünscht funktioniert:"
   ]
  },
  {
   "cell_type": "code",
   "execution_count": 3,
   "metadata": {},
   "outputs": [
    {
     "name": "stdout",
     "output_type": "stream",
     "text": [
      "unsortiert  [7, 3, 5, 9, 3]\n",
      "sortiert    [3, 3, 5, 7, 9]\n"
     ]
    }
   ],
   "source": [
    "test_array = [7,3,5,9,3]\n",
    "print(\"unsortiert \", test_array)\n",
    "selection_sort(test_array)\n",
    "print(\"sortiert   \", test_array)"
   ]
  },
  {
   "cell_type": "markdown",
   "metadata": {},
   "source": [
    "Um zu zeigen, dass man damit auch komplexere Daten als nur Zahlen sortieren kann, legen wir eine Klasse `Person` an. Diese speichertfür eine Person den Namen und das Alter. Wir müssen nun eine Ordnungsrelation definieren. Dies passiert mit den speziellen Methoden ```__eq__``` und ```__lt__```. Zwei Personen werden in diesem Beispiel nur anhand ihres Alters verglichen. "
   ]
  },
  {
   "cell_type": "code",
   "execution_count": 4,
   "metadata": {},
   "outputs": [],
   "source": [
    "class Person:\n",
    "    def __init__(self, name, age):\n",
    "        self.name = name\n",
    "        self.age = age\n",
    "\n",
    "    # Diese spezielle Python Funktion wird zum darstellen des Objekts\n",
    "    # in der Ausgabe verwendet. Details müssen Sie an dieser Stelle nicht \n",
    "    # verstehen.\n",
    "    def __repr__(self):\n",
    "        return \"%s (%i)\" % (self.name, self.age)\n",
    "\n",
    "    # Gleichheit zweier Personen Objekten\n",
    "    # Gibt true zurück falls das Objekt self gleich dem Objekt other ist.\n",
    "    def __eq__(self, other): # ==\n",
    "        return self.age == other.age\n",
    "    \n",
    "    # Vergleich zweier Personen Objekte\n",
    "    # Gibt true zurück falls das Objekt self kleiner als das Objekt other ist.\n",
    "    def __lt__(self, other): # <\n",
    "        return self.age < other.age\n",
    "    \n",
    "    "
   ]
  },
  {
   "cell_type": "markdown",
   "metadata": {},
   "source": [
    "Nun können wir Personenobjekte erstellen und vergleichen:"
   ]
  },
  {
   "cell_type": "code",
   "execution_count": 5,
   "metadata": {},
   "outputs": [
    {
     "name": "stdout",
     "output_type": "stream",
     "text": [
      "ist beat == hans?  True\n"
     ]
    }
   ],
   "source": [
    "ella = Person(\"Ella\", 7)\n",
    "hans = Person(\"Hans\", 23)\n",
    "beat = Person(\"Beat\", 23)\n",
    "manuel = Person(\"Manuel\", 30)\n",
    "cara = Person(\"Cara\", 22)\n",
    "print(\"ist beat == hans? \", beat == hans)"
   ]
  },
  {
   "cell_type": "markdown",
   "metadata": {},
   "source": [
    "___\n",
    "<span style=\"color:red;font-size:1em;\">*Aufgabe*</span>: Erstelle eine Eingabe mit den oben definierten Personen, die zeigt, dass selection_sort nicht stabil ist."
   ]
  },
  {
   "cell_type": "code",
   "execution_count": 7,
   "metadata": {},
   "outputs": [
    {
     "name": "stdout",
     "output_type": "stream",
     "text": [
      "[Ella (7), Cara (22), Beat (23), Hans (23), Manuel (30)]\n"
     ]
    }
   ],
   "source": [
    "not_stable_example = [ella, cara, beat, hans, manuel]\n",
    "selection_sort(not_stable_example)\n",
    "print(not_stable_example)"
   ]
  },
  {
   "cell_type": "code",
   "execution_count": null,
   "metadata": {},
   "outputs": [],
   "source": []
  },
  {
   "cell_type": "code",
   "execution_count": null,
   "metadata": {},
   "outputs": [],
   "source": []
  }
 ],
 "metadata": {
  "kernelspec": {
   "display_name": "Python 3",
   "language": "python",
   "name": "python3"
  },
  "language_info": {
   "codemirror_mode": {
    "name": "ipython",
    "version": 3
   },
   "file_extension": ".py",
   "mimetype": "text/x-python",
   "name": "python",
   "nbconvert_exporter": "python",
   "pygments_lexer": "ipython3",
   "version": "3.7.4"
  },
  "toc": {
   "base_numbering": 1,
   "nav_menu": {},
   "number_sections": false,
   "sideBar": false,
   "skip_h1_title": false,
   "title_cell": "Table of Contents",
   "title_sidebar": "Contents",
   "toc_cell": false,
   "toc_position": {},
   "toc_section_display": false,
   "toc_window_display": false
  }
 },
 "nbformat": 4,
 "nbformat_minor": 2
}
