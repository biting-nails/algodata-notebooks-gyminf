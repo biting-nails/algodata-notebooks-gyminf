{
 "cells": [
  {
   "cell_type": "markdown",
   "metadata": {},
   "source": [
    "# Graphenexploration"
   ]
  },
  {
   "cell_type": "markdown",
   "metadata": {},
   "source": [
    "## Gerichtete Graphen"
   ]
  },
  {
   "cell_type": "markdown",
   "metadata": {},
   "source": [
    "Wir verwenden hier `networkx` zur Repräsentation und zur Darstellung von gerichteten Graphen:"
   ]
  },
  {
   "cell_type": "code",
   "execution_count": null,
   "metadata": {},
   "outputs": [],
   "source": [
    "import networkx as nx\n",
    "\n",
    "g = nx.DiGraph() # directed graph\n",
    "g.add_nodes_from([0,1,2,3,4,5])\n",
    "g.add_edge(0,1)\n",
    "g.add_edge(0,3)\n",
    "g.add_edge(1,2)\n",
    "g.add_edge(1,3)\n",
    "g.add_edge(2,1)\n",
    "g.add_edge(2,4)\n",
    "g.add_edge(2,5)\n",
    "g.add_edge(3,2)\n",
    "g.add_edge(3,4)\n",
    "g.add_edge(4,1)\n",
    "g.add_edge(4,5)\n",
    "\n",
    "# g = nx.gnm_random_graph(8, 16, directed=True)"
   ]
  },
  {
   "cell_type": "code",
   "execution_count": null,
   "metadata": {},
   "outputs": [],
   "source": [
    "pos = nx.spring_layout(g)\n",
    "nx.draw(g, pos, with_labels=True, node_size=1000, node_color='lightblue')"
   ]
  },
  {
   "cell_type": "markdown",
   "metadata": {},
   "source": [
    "## Tiefensuche"
   ]
  },
  {
   "cell_type": "code",
   "execution_count": null,
   "metadata": {},
   "outputs": [],
   "source": [
    "def depth_first_exploration(graph, node, visited=None):\n",
    "    if visited is None:\n",
    "        visited = set()\n",
    "    if node in visited:\n",
    "        return\n",
    "    visited.add(node)\n",
    "    print(\"exploring\", node)\n",
    "    for s in graph.successors(node):\n",
    "        depth_first_exploration(graph, s, visited)"
   ]
  },
  {
   "cell_type": "code",
   "execution_count": null,
   "metadata": {},
   "outputs": [],
   "source": [
    "depth_first_exploration(g, 0)"
   ]
  },
  {
   "cell_type": "code",
   "execution_count": null,
   "metadata": {},
   "outputs": [],
   "source": [
    "def depth_first_exploration_with_preorder(graph, node, \n",
    "                                          visited=None,\n",
    "                                          preorder=[]):\n",
    "    if visited is None:\n",
    "        visited = set()\n",
    "    if node in visited:\n",
    "        return\n",
    "    visited.add(node)\n",
    "    preorder.append(node)\n",
    "\n",
    "    for s in graph.successors(node):\n",
    "        depth_first_exploration_with_preorder(graph, s, visited, preorder)\n",
    "\n",
    "preorder = []\n",
    "depth_first_exploration_with_preorder(g, 0, preorder=preorder)\n",
    "print(preorder)"
   ]
  },
  {
   "cell_type": "code",
   "execution_count": null,
   "metadata": {},
   "outputs": [],
   "source": [
    "%matplotlib inline\n",
    "\n",
    "import matplotlib\n",
    "import matplotlib.pyplot as plt\n",
    "from matplotlib.animation import FuncAnimation\n",
    "from IPython.display import HTML"
   ]
  },
  {
   "cell_type": "code",
   "execution_count": null,
   "metadata": {},
   "outputs": [],
   "source": [
    "def update(num, order):\n",
    "    labels = dict((node, ind) for ind, node in enumerate(order[:num+1]))\n",
    "    nx.draw(g, pos, labels=labels, node_size=1000, node_color='lightblue')\n",
    "\n",
    "\n",
    "fig, ax = plt.subplots()\n",
    "ani = FuncAnimation(fig, func=update, frames=range(len(preorder)), fargs=(preorder,), interval=800, repeat=True)\n",
    "HTML(ani.to_html5_video())\n"
   ]
  },
  {
   "cell_type": "markdown",
   "metadata": {},
   "source": [
    "## Breitensuche"
   ]
  },
  {
   "cell_type": "code",
   "execution_count": null,
   "metadata": {},
   "outputs": [],
   "source": [
    "from collections import deque\n",
    "\n",
    "def bfs_with_predecessors(graph, node):\n",
    "    predecessor = dict()\n",
    "    node_depth = dict()\n",
    "    queue = deque()\n",
    "    # use self-loop for start node\n",
    "    predecessor[node] = node\n",
    "    node_depth[node] = 0\n",
    "    queue.append(node)\n",
    "    while queue:\n",
    "        v = queue.popleft()\n",
    "        for s in graph.successors(v):\n",
    "            if s not in predecessor:\n",
    "                predecessor[s] = v\n",
    "                node_depth[s] = node_depth[v] + 1\n",
    "                queue.append(s)\n",
    "    return predecessor, node_depth"
   ]
  },
  {
   "cell_type": "code",
   "execution_count": null,
   "metadata": {},
   "outputs": [],
   "source": [
    "predecessor, node_depth = bfs_with_predecessors(g, 0)\n",
    "nx.draw(g, pos, labels=node_depth, node_size=1000, node_color='lightblue')\n",
    "induced_tree = [(pre, node) for node, pre in predecessor.items()]\n",
    "d = nx.draw_networkx_edges(g, pos,\n",
    "                       edgelist=induced_tree,\n",
    "                       width=8, alpha=0.5, edge_color='r')"
   ]
  }
 ],
 "metadata": {
  "kernelspec": {
   "display_name": "Python 3",
   "language": "python",
   "name": "python3"
  },
  "language_info": {
   "codemirror_mode": {
    "name": "ipython",
    "version": 3
   },
   "file_extension": ".py",
   "mimetype": "text/x-python",
   "name": "python",
   "nbconvert_exporter": "python",
   "pygments_lexer": "ipython3",
   "version": "3.7.4"
  },
  "toc": {
   "base_numbering": 1,
   "nav_menu": {},
   "number_sections": false,
   "sideBar": false,
   "skip_h1_title": false,
   "title_cell": "Table of Contents",
   "title_sidebar": "Contents",
   "toc_cell": false,
   "toc_position": {},
   "toc_section_display": false,
   "toc_window_display": false
  }
 },
 "nbformat": 4,
 "nbformat_minor": 2
}
