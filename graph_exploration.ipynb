{
 "cells": [
  {
   "cell_type": "markdown",
   "metadata": {},
   "source": [
    "# Graphenexploration"
   ]
  },
  {
   "cell_type": "markdown",
   "metadata": {},
   "source": [
    "*Hinweis:* Um die Animationen in diesem Notebook zu sehen, müssen Sie ffmeg installieren. \n",
    "\n",
    "Wenn Sie Anaconda verwenden öffnen Sie den Annaconda prompt und geben folgendes Kommando ein:\n",
    "```\n",
    "conda install -c conda-forge ffmpeg\n",
    "```\n",
    "\n",
    "Wenn Sie google Colab verwenden, installieren Sie ffmpeg direkt aus dem Notebook mit:\n",
    "```\n",
    "!apt install ffmpeg\n",
    "```"
   ]
  },
  {
   "cell_type": "markdown",
   "metadata": {},
   "source": [
    "## Gerichtete Graphen"
   ]
  },
  {
   "cell_type": "markdown",
   "metadata": {},
   "source": [
    "Wir verwenden hier `networkx` zur Repräsentation und zur Darstellung von gerichteten Graphen:"
   ]
  },
  {
   "cell_type": "code",
   "execution_count": 22,
   "metadata": {},
   "outputs": [],
   "source": [
    "import networkx as nx\n",
    "\n",
    "g = nx.DiGraph() # directed graph\n",
    "g.add_nodes_from([0,1,2,3,4,5])\n",
    "g.add_edge(0,1)\n",
    "g.add_edge(0,3)\n",
    "g.add_edge(1,2)\n",
    "g.add_edge(1,3)\n",
    "g.add_edge(2,1)\n",
    "g.add_edge(2,4)\n",
    "g.add_edge(2,5)\n",
    "g.add_edge(3,2)\n",
    "g.add_edge(3,4)\n",
    "g.add_edge(4,1)\n",
    "g.add_edge(4,5)\n",
    "\n",
    "# g = nx.gnm_random_graph(8, 16, directed=True)"
   ]
  },
  {
   "cell_type": "code",
   "execution_count": 23,
   "metadata": {},
   "outputs": [
    {
     "data": {
      "image/png": "[encoded data removed]",
      "text/plain": [
       "<Figure size 432x288 with 1 Axes>"
      ]
     },
     "metadata": {},
     "output_type": "display_data"
    }
   ],
   "source": [
    "pos = nx.spring_layout(g)\n",
    "nx.draw(g, pos, with_labels=True, node_size=1000, node_color='lightblue')"
   ]
  },
  {
   "cell_type": "markdown",
   "metadata": {},
   "source": [
    "## Tiefensuche"
   ]
  },
  {
   "cell_type": "code",
   "execution_count": 24,
   "metadata": {},
   "outputs": [],
   "source": [
    "def depth_first_exploration(graph, node, visited=None):\n",
    "    if visited is None:\n",
    "        visited = set()\n",
    "    if node in visited:\n",
    "        return\n",
    "    visited.add(node)\n",
    "    print(\"exploring\", node)\n",
    "    for s in graph.successors(node):\n",
    "        depth_first_exploration(graph, s, visited)"
   ]
  },
  {
   "cell_type": "code",
   "execution_count": 25,
   "metadata": {},
   "outputs": [
    {
     "name": "stdout",
     "output_type": "stream",
     "text": [
      "exploring 0\n",
      "exploring 1\n",
      "exploring 2\n",
      "exploring 4\n",
      "exploring 5\n",
      "exploring 3\n"
     ]
    }
   ],
   "source": [
    "depth_first_exploration(g, 0)"
   ]
  },
  {
   "cell_type": "code",
   "execution_count": 26,
   "metadata": {},
   "outputs": [
    {
     "name": "stdout",
     "output_type": "stream",
     "text": [
      "[0, 1, 2, 4, 5, 3]\n"
     ]
    }
   ],
   "source": [
    "def depth_first_exploration_with_preorder(graph, node, \n",
    "                                          visited=None,\n",
    "                                          preorder=[]):\n",
    "    if visited is None:\n",
    "        visited = set()\n",
    "    if node in visited:\n",
    "        return\n",
    "    visited.add(node)\n",
    "    preorder.append(node)\n",
    "\n",
    "    for s in graph.successors(node):\n",
    "        depth_first_exploration_with_preorder(graph, s, visited, preorder)\n",
    "\n",
    "preorder = []\n",
    "depth_first_exploration_with_preorder(g, 0, preorder=preorder)\n",
    "print(preorder)"
   ]
  },
  {
   "cell_type": "code",
   "execution_count": 27,
   "metadata": {},
   "outputs": [],
   "source": [
    "%matplotlib inline\n",
    "\n",
    "import matplotlib\n",
    "import matplotlib.pyplot as plt\n",
    "from matplotlib.animation import FuncAnimation\n",
    "from IPython.display import HTML"
   ]
  },
  {
   "cell_type": "code",
   "execution_count": 28,
   "metadata": {},
   "outputs": [
    {
     "name": "stderr",
     "output_type": "stream",
     "text": [
      "C:\\Users\\luetma00\\AppData\\Local\\Continuum\\anaconda3\\lib\\site-packages\\networkx\\drawing\\nx_pylab.py:579: MatplotlibDeprecationWarning: \n",
      "The iterable function was deprecated in Matplotlib 3.1 and will be removed in 3.3. Use np.iterable instead.\n",
      "  if not cb.iterable(width):\n",
      "C:\\Users\\luetma00\\AppData\\Local\\Continuum\\anaconda3\\lib\\site-packages\\networkx\\drawing\\nx_pylab.py:676: MatplotlibDeprecationWarning: \n",
      "The iterable function was deprecated in Matplotlib 3.1 and will be removed in 3.3. Use np.iterable instead.\n",
      "  if cb.iterable(node_size):  # many node sizes\n"
     ]
    },
    {
     "data": {
      "text/html": [
       "<video width=\"432\" height=\"288\" controls autoplay loop>\n",
       "  <source type=\"video/mp4\" src=\"data:video/mp4;base64,AAAAIGZ0eXBNNFYgAAACAE00ViBpc29taXNvMmF2YzEAAAAIZnJlZQAAOM5tZGF0AAACnwYF//+b\n",
       "3EXpvebZSLeWLNgg2SPu73gyNjQgLSBjb3JlIDE2MSAtIEguMjY0L01QRUctNCBBVkMgY29kZWMg\n",
       "LSBDb3B5bGVmdCAyMDAzLTIwMjAgLSBodHRwOi8vd3d3LnZpZGVvbGFuLm9yZy94MjY0Lmh0bWwg\n",
       "LSBvcHRpb25zOiBjYWJhYz0xIHJlZj0zIGRlYmxvY2s9MTowOjAgYW5hbHlzZT0weDM6MHgxMTMg\n",
       "bWU9aGV4IHN1Ym1lPTcgcHN5PTEgcHN5X3JkPTEuMDA6MC4wMCBtaXhlZF9yZWY9MSBtZV9yYW5n\n",
       "ZT0xNiBjaHJvbWFfbWU9MSB0cmVsbGlzPTEgOHg4ZGN0PTEgY3FtPTAgZGVhZHpvbmU9MjEsMTEg\n",
       "ZmFzdF9wc2tpcD0xIGNocm9tYV9xcF9vZmZzZXQ9LTIgdGhyZWFkcz02IGxvb2thaGVhZF90aHJl\n",
       "YWRzPTEgc2xpY2VkX3RocmVhZHM9MCBucj0wIGRlY2ltYXRlPTEgaW50ZXJsYWNlZD0wIGJsdXJh\n",
       "eV9jb21wYXQ9MCBjb25zdHJhaW5lZF9pbnRyYT0wIGJmcmFtZXM9MyBiX3B5cmFtaWQ9MiBiX2Fk\n",
       "YXB0PTEgYl9iaWFzPTAgZGlyZWN0PTEgd2VpZ2h0Yj0xIG9wZW5fZ29wPTAgd2VpZ2h0cD0yIGtl\n",
       "eWludD0yNTAga2V5aW50X21pbj0xIHNjZW5lY3V0PTQwIGludHJhX3JlZnJlc2g9MCByY19sb29r\n",
       "YWhlYWQ9NDAgcmM9Y3JmIG1idHJlZT0xIGNyZj0yMy4wIHFjb21wPTAuNjAgcXBtaW49MCBxcG1h\n",
       "eD02OSBxcHN0ZXA9NCBpcF9yYXRpbz0xLjQwIGFxPTE6MS4wMACAAAAXimWIhAAW//730z/Msuv3\n",
       "ObXjqPeiniZfQ3UlAZuWxO06gAAAAwAGduXNl9ntQXAfaAAHjim/4fQTMA2N81Sq311D1CLO31rm\n",
       "0LrMY54nS7QwWnJAgQPFthrmc2ZyI8RpHTrbyicjKSpEw93BAQhNP+DYn6s492ob54TEPnV7aXhG\n",
       "rGf2QnfTqu3bO9CIi66XvC6XiaH9BIFC7E6JpnVxBRpHmPyc7uQpezTTp91NO8s8qgFNSRWmvh8i\n",
       "CNfxne5uEEinRTjnbT0rMwepio0n8YiFaz+48/TIDB4vVQvoxRoBAWB3HHcJepU7lkmE+/bHqNI3\n",
       "5YZv7l8Pip7OpK5i567jY+MAIpaCBZFX6zd2c79mHO0bprvj/tU0SDLFIse0VbzYqRleMrbIxRjk\n",
       "K25b7maudvkBheBdrc8c3Jv/XaTis7S628PsMCjkixLfxAm8W2NiexWlMEF3XJ4Hmdv1L4Aon+RR\n",
       "pncuwAJ6fZgC6erECIJkiDdmdgykDUuctjpvTCC3EmvKfsqwRyAJ/8HKtUb4KUV3yo9ejazV0dWO\n",
       "2hluVa7BcLJdroXN1IcFPo1JRilKoBTpbsa/V6g7FUz+yninig9zzPsnA+PNl5rmTdkrl4KagNMe\n",
       "nS/Ie2cnvaQ1e/BLA9Ilg/Szo7qKHuT1CYYCUix1l6/ISknoJpedxVy5mmrLYTWDmrREcu3DbyAy\n",
       "CtAPo9uUtm9I+WBk9KysNbLTCWYw41XSXy66nwfilH9zI5ekfdjki4HW5PpyeyZ1eknc/ZkX9/U1\n",
       "ZGOMX93AcDJrVW5z/4dTUzZmOSCxItfQDukRVgwlMRmz/eJZ9PFP/TPHRvkItTDVA+HlZhAhtjUf\n",
       "wW1tp1bBWZ9bbFHhyFSPXReiriFGJOF3Fgmqi/Ld8WTD3qFQWREnc7yhj+OHN5hPBaLTxeEusaaq\n",
       "qqCdtBxsMi2yFafPGnYOSdo5m9PURqCJhqA+AxWTgE+XYWYLZkMpHRT/K8CaW+pdXDFS3/OMnODG\n",
       "oZrUXVgYzvKmrbOsMnGXgHx3B5QJK8cqcw7kUHvrJo8kgsArSna47L+Gim/R0M+2rBljhbOhC9u0\n",
       "W+JEdGJb+80YIoHWzuGAKppAqu0H6Jd6e7OkhU4/865LGiR4em+Op5J0aX0/CnPQq7E0TZtqSNp0\n",
       "bTH3qDBZBlR0PX6WCAehRVI6SCs5vFGkg8GglFiF2LIt6888FjAslz6IJD9RY75xYMzuWDjvx1Lb\n",
       "AWMkEYSdCJJ7P4SNMn8hOIlqDeQSTZJNxyVD+ARlFkQ+SNpwaUKKsQM4yJp79YyysUiHqI8H9Mzv\n",
       "GVMo9Gvrj5rW1bJ2cH1fMw70OkYemOYJ9PeALRtXzFOXsNeRqXGNxzhRE+aHckRuqz5ijPoWHC8e\n",
       "TplI84SIQyFg73pWG7n27dznKBz6UPWx6lyKMDOuaJVyKJIEi5pKVBt7WLZKRWLhueKtSGmVluXG\n",
       "VXrDxQoNmGmSsiGKNKoJvCvC0Xre+YOGTLPAB8UcO5MOikJQgE3tHNQzb2n6DhqqTiPvUIEjgmt8\n",
       "PiSpE/4tOU/+5s4zLaqZP9zxgwHcA/pnfjDWb2T7AD3VPPTJ6myubWpbcKp7dSJ8iFsWk+jHwrk0\n",
       "zSbyKQ6Y8k/mtJt6J/KwedqWC8ZnHegrXs5b+8DVPgxK5y25Pa9q/9Q7eeJbRqjlziMqJ/ftfgc5\n",
       "8bLJTxKY0b+jimciS0fdgpljbUWgZwrYFoyHaC2HdzM/Px4rTYngLgqgLRoelZCljyed7eQTEM33\n",
       "lCm6DF/pZzHMnOuFxNs4R3ARwJU/GUw8xu/kXewa2dw+A36ZHIL27JiVZ/cQ56BGCRiqc+osSsJB\n",
       "VBJc2Mgf9+2rv8Btg8XXEFogcyW1xTVy9uQ6MxRrl4Fq8gjU7oPu2pCxLRmGoxSTf9nTqXjWkxj/\n",
       "iPOA9F2JGUV2u62DKOqpHJVvbwP+Y/Vap28QGmxL4z1VwP8Z7JPBZaVsY+XqRr/ouxGswbtZIikK\n",
       "Rk7X5kBIq8B6jLI1xEKgQNr2OK+04DnTA3TQIqKZ8dVnOre2bQwwVSMgcnEWBrMLfkFycg+I26HQ\n",
       "u+VFzndIW1V1m1/xW/XtpKfycebYeniRG7JzwfIMhOJG28wawIp8S9z3aojjbeHkDYfs+5wBkhr9\n",
       "w0xfXjdxXjUUYgbDRD6MPGUZzjHG17LBhKAB59TuUFTp0XOufgnNap7+auwHgbpVI+x+TgW5Smpp\n",
       "D8Ilv9eAzgXQ1+kEkio2ewA/v+MrVrggM4YGEERYPnAlWuawPVGRCu0Y0QzYmoBdRZfqbq171Iap\n",
       "nSa9AMmDylwyduxv0yx/Qa7Rk6hRl1Sx18y7fnFtrkhhrRxlICjfgNd98kMd57U/+LDV2XcWCtCY\n",
       "Sv/WVPv7rzFAQlxLkiV4A3I1ZUA0mrnBFd/P/EPHL7LfpYTRMyBIzV0j39cxswbYlOGdZMlOEoSi\n",
       "J19ssWhG2O7LiZI04QxRbEPm2fH0kprYHp9QepBF+zjXAueti6pLBE5DwYpotEHxlso1CnnmtW5/\n",
       "ozszlx3HqJBP9T58JVTMpsVyep6pYoRDcql1Kj06auVkb8rLrOsdPS9SSSZv1T52ci0lisdG7YG+\n",
       "bmdCixFo57jfgXv3nk81gjsH8FmKPiUbnZRiLjlKFB1stnTZdW734ZJnAgE+9gAtS7wRhjse2IN+\n",
       "BP4CBB6/PwPiGHIT+brT8LeRmJyMmQZ5TYeGN1c8bzUDe6KrGFDicp2V8rtM4tVOK3D1pZge5zQ4\n",
       "px0QbOHnpLgu89Li6wBlC2yPKDSwAjy0dC0w3RosfhU0HWKklOgMkTaJAHB9HvwMDqk8omeXFzyM\n",
       "LNtol9PdFnW/H47dcRibhpwjP1aybQajNLL7Yq0Vhdc15N5JyNUIwyoivsya8/W5X/5ze6nyB9Dy\n",
       "vcVyM9VorKC3HcBwvhoLWha8AMcdjmJjSGLx1WWXE3laaycWtzPkrJ6dlOx26WrN76Xd5Ir1FGJ1\n",
       "NfXP83zKikTEttZQut+9OJD3H7bHtOd8fy43LVB/4w3SA6alinYOPXnWg7b4rq5Uy1EGeTfx0sY2\n",
       "bdVzpCgUjCVC1Vxwff5YZTdy8wEHPhxYgxqvg3lGTkr92ZRC4sH7D8VYB4wIDaMExutBx4mp1TaF\n",
       "xDH7dGN6ma0/E3QTHuX/+u/b9TGj6nGeKVw4TJm8BeHQMFWTieAl8GVklKvMxeFkJV5iQjKNf094\n",
       "iOPxysatlAQdLY+sHffCoswdxXVio869u5rEtZ4kgTVs51q/FjhBmjgorz8oK6wUDOopNNkX4PNs\n",
       "ogp2+ntqi0gKQAtqoLy1Evr9gmN1+IaYMU64vLxjusRsu7JhAct0nAEdyrJ4RX8ejca+v1+1gOXd\n",
       "tKp1QdKjxxbXfUw+tS71ZAhvtM9BxFaaMvIcub5TrDtZKDpvxy/Cbyw45qf0fknSFgxmnSZ306KJ\n",
       "y9aOHMi1yNfB+oHtwb804QjEEtzYk7D8g0AnyMcfaSJFL/ej4kekPmevYr2CHoQFJ8aQJENvmyaz\n",
       "cu/fhoxUkiY3L3BPZOnif/zBwRsKJ8yn/IpAX5XogrV7BuV/Q41fnL0BM4JvE1jrqwkOTffitOiw\n",
       "hoQCGnmkmpsuXEOBo//wFCxF3PpLRXPgrjShuxS2dcEKLcKhHR07LGltv+n8IcoVcd//KlWcv5+z\n",
       "guVH5OBxXb+Icx8JhvZswfb64VgMDGLPMlEAsCD/xm/Z3Q3gPEkHf0Q2uNmuD4PoNnj088bzQ/OV\n",
       "5Brx+ELzyiaWkJAY2M6gfDdl422M66aTtVb2CXzCT82bvb/5Dj6sKXVfrghUGOwLAvSGDrSmXvM9\n",
       "rxk+ISJiq8Veh08JrJDWvjfpQz8DMzi3ztPIHLf1utwXHWaYZQ3S5AJh552he5CZ1tCMI5tSd7TB\n",
       "DQQ2Y+bwO5pIR0ihb4jcx84igFnJhdQdRVQHr+Zva1a2UexS6MkYGoUVKXhaMxFTijJ11B8+FSll\n",
       "dtnbQ4AbTg8R2329Y93QOlVouXJNnZz6BMScswE217ocGhSsCTJxWOVISLTWd5OXEuSP/usT8YW2\n",
       "Aqr6U8auUTrxvYWNIsMPje7X/577LCMGPUESQn+X+NUPOIjXgDb1gk5K55gPGiLUesiea9KElW2c\n",
       "QCQU3ku2p4h8uleQLOGzb+1+L5bi0YFj9IhpK6hzC073u9JyOThO8DqFD3tTf0ZJDnNwl/IUgoUQ\n",
       "dMogx6B1DqQDeecHCe90E5aow0V7sPSuBEYusIMKAeXU3sABHqzjHxLSB8ixJukdJ7mjQnFGOlzS\n",
       "QlvprdS23nbgtGMRx6QEwHFj6Ld+l/4a3OUmMTwhqqr9pxFjmN5OP81FW/ah+Koe47mUA7pb3WVp\n",
       "FRxVOi0bcbi6I6qotnhf8Ei0QshUZ6VGgIk3Gj+eu2tF/Qk3nJhRupwGOCPJZpR4/o3fkvvQmv5T\n",
       "il10XtcIFnlp+Z8KDNL9zQetA2d/1o38aqrcZAnNTE6Xk3Gcurc6Nru04tpPVhWgyLcW9MYD2Huy\n",
       "cUkF+u668HsbBA4pySTQWxOO3/z6g1JU7x7K9PUANwvafFoYBYiyeNxR03MK7o1V9wc1ITdIBuWO\n",
       "Iq2ZMT+hNTaoNK9Q1DtBuV3hc6LeJ1c4KVYMA6D/8bSXv6UIN7RpuFNEZ6W8aiOVFYNe9ZRZbBp+\n",
       "ctj8P7EXHlsRV2PYnWuENJCvap36TJp+nhYFuUHqbN3R/A9a0x2GYVM73QV2Le3KVU126j1UoHbO\n",
       "35rlYaKG+F0TyI8lBtj4IwAvEfuE9yu2xFcv1Xqd3oQOrigw+dFHcQyubBpnp678iWZktfH8qZ88\n",
       "AEZSWqK+lO3ZtE/pN2WYYxlCYGT27AG9Zz7yspxTyA8f5f/RSslJ5OqBNKO03JDCqTIee1VgBwMR\n",
       "rTQ2pAQcZ4fLK5ZiO1/at1DlbPYWhmcMHyym1CvhCh/O8AkwHSelFgIxl2wnUEsaIsCUfwSQRfpk\n",
       "2qsvSIN0lrsVR2ZhB5+JMTJiguNAy0P/+ZbAO4BEfmlcs9Kk0dyATFKxkknrGXBb1KCuu/p7l6n/\n",
       "BTUI4FX7vdELRb9M41mhdgkmFjcw+W+zliWRFWOgISHzBrTX/XZkW3z8wjS3krH0aEm74nickCC4\n",
       "2BnJDhDYNnp1J4nGR99k2xTnbcFqCUZ6aBThZ6wqh/d7GNd3DY+K/1SByPEC75Ja+mRLkf+t7ePD\n",
       "+wv/mHwY6jQyvWXAZp2+d/OzA8bA3FLKpi5FCV5uHO4GIjs64NJdBDPgMDRKe21+m5iRXbLhKUpk\n",
       "ssRGl1hpjjEsGudB72lw+5xiD30H/J9nIjw+iixIhyPRAiuX+idwqWiybQdLYiP+S5noz5Bl6LZH\n",
       "tWk1ysvROiBdC5S3iigF74zDl5E2+6CflUi4phgR5PWNOV04x91kJiO0rdbZ2Okgv6V4zXydZafK\n",
       "qXJmxro7Kpts+6jO9IK1GmPDVYstAtc439m6+4f4YqkHhyNysScgn1pgLsie6ZuiUQT/1dAaC6Cg\n",
       "4U6Dz5iNe29BH99SkC5oDbaMmRK3tSa0bREk8DYqzPpyciHTaNbH+wBDuuSKZjqOE9oyFv5NSbc9\n",
       "LEFwlX3v+XfqQp5tXcoiWdOq36ZDolPZ+6iUwPS4BjVoLu7rBBVnQsVX07tvbJoklAiXSwgRMGDA\n",
       "Gd0pqlhueW3m041WyhPTyhi4XOqajQAJtwHMcoeentUGuDsGBMEs6end6EZnkuemkJAocGR9qe2n\n",
       "8DmZ7UtOXvZNMUs2SP8L8RbtIM8lVX2dea6x8Y2byaN4s1ZLPKjQFqf8EHGsmgbZYzqCcN/ehxqj\n",
       "QNw/Epb1aF8Gp/ipdlEaHPIIYWycClUOdQkKBuYxjwUnSYMnRHyh4y7VfYsf1rsP1rqlxwEjWKbC\n",
       "2/ejLDO8edaU6N0Ds4jhNfbht7YneMOmzsemnVzvfBmUFUL8NqqNnL9IF0hAT8txBwh0nejDMxSA\n",
       "4GudsbDeVUMNAMzcFnmXU10kXy2s90dOVy1hqAvt/AaJWQmV06mKjJy74jmylRq0aoyFzcdg2GMH\n",
       "S65YP9UvOMsGOyzxTTupcJkXpFnVXdFGdPkxbNONGyE2twjz3dh2ipZ4Z9n7VM/oKIMXweeUejun\n",
       "Vi01h67kLDtvVXlDGW8MtDPg+LruaBIOHCLiByoW+KVr6rLc0JV/MV1szCwnU4CMrv5FMpycIKBh\n",
       "s1YjWq/4WSxxtdclCN1KseorUtw1aLGc+JKivUN2vJEC/5/S4GylDrlfXTS8uW1QEc1K1M3qFxgz\n",
       "9WogEcZSAH99HiOGAKUbQYdxkTKJQ+m09NIM3OeA+TtOeyqvXhpVVMlDI8MIVFtnQ+YxgDYh6iOu\n",
       "8lCqNg87n2r1cQo4rcfas2xJNCNwP3kg73VoihHWkPJbv66JSI7m2Ha/XZIEYwxV+GzgEg5qhCRY\n",
       "ootsHX9xhrfosp8vZyfgH8Dy0LMNHb580oHx6Mr8bayJp/n7Ujlwa2EQs7stQIWZkhX8FQ4FpHeY\n",
       "yKxPcdeid4A6puUe+Kd6j8RgNp46Vezu45/4ppOPQe/HRKZkMshJgZ5/j6um+lKmXKRFnHHCL9gW\n",
       "5qrOAEF4k2mXNPLprc2oReINfX1akg2Q6X/22O5P1PMSU9I1CmkvdfeX9v9W+sDX5lKc5+NrOwN3\n",
       "DqwFhZaCjWRnjNhhotH/GqQFEvCx4+XxDJhcC/DngvB99XBhtuiMS9J+tYB92FZRa9LBgSjym9+B\n",
       "c+ccOidXEFu+6qajBHmGrASiW1DESsAWakIePnONhrY+kIkKv9hBal4MUb2PcbF/yElaNTFXfikX\n",
       "YcyH6us5Ze1+frIlmPZc70MhuknSvlvFaOQg+neYayud05mHDm234KycJBDmWAv3ap+sUG4eEZId\n",
       "1Ehird8x8Y8L1zgnM/wuwUVKflRJnCGtC07IrWyMY6S7cijhkCBCLUqQEcWBoKCWqytpKq3sNtBN\n",
       "kl0654bop9s2SV6dCit+6cFeTszyXfVGsboH6CXXpO9+w8jSEvf/hRcnI5Wo6HG8tFogF8C2LsdY\n",
       "7UB4obCnHgC5ZsoMVj0qVRYyeHqC15TWI0HbnhQ/ED4pEM4xdPalqYlfVBwz/jPlLik6CEz1fK4d\n",
       "bOc4JIxJIs8K39GqNoNjuP9vl1PI+9naq9jRnbis6DBdDPruxi7hfbYlbYIvmxBO3JKeSuiA/lpH\n",
       "69L04r5lB3flgA0YJb4yQbTjsUgpVRgSixMkkO8RP1lF2wDJXvYzpX7PK8orZHS5TFpW98NeIv/+\n",
       "HheV0644zBR5b/0j2Ix42TIwtK/d6qKxBeqCW+BhksNyO/Yz1au/QSq90FYIoGRch7PRp8anIRBA\n",
       "FUExfh7JSxnLHScNMy9fLqDOtDtRqg920zoW4wE2hVrTF0OxxTCg7VskX1MgNIP8H0Rbp568yWP1\n",
       "6TwB4lzI5TIK//ZrPYihtTvdKySHXWX01p9Db1Rath3XDZcLVVpnb02LXa9gDFsotq7GJtH4LPqw\n",
       "JAg3qhK06UuCZA9Bs9jFmqBLTORimLL0uTUFKmzJkvHNHXRKR3PjrMe1JNRgBZ3id/aEpGrmeH2O\n",
       "jdUj8F1XV07NnqmP+xejG8zvXTFStbJQWgJTWF37btz7vTQpAqD0vfxSYy+fAre78CQ0lZiMCQZn\n",
       "GCNHAlwSAUWipeKG0Vw496ZFIAurqCcaz+W+7dsya1aAgIjhUpjCbNLAncMBTAaoUMNrlsrX40v3\n",
       "uErFUyV6Oa/MrEyRo5aVVcKSUZ/VHs+PiwwrNDZCTE0MylTjuVSD8kNl+vT+OUrU9NDsEVmcqsJz\n",
       "Q0d+kyCzYKiDkP5e65u99gZ41aAq85dHzpo/B1gM/GuuuUnd4Dzs616TBTEMc5n2OAkO1B4VRzkU\n",
       "kG6i71Qorr8TgOeg2f+qwcN07U6YzK+YRd08c8Xn9UNuxmn04Qgo3GzXO28iGxwBoT6KYtMruXVT\n",
       "wconCXgJaynU+XHZIJGxqQMkx7xrxx3wzbH6+uJdWOa/hO7oC7AnERg/3O4Q1h7a3IOLuVWyhh7M\n",
       "cXrySvE8nCmpAfAolqK2ldYWwOUO3mMAACHhAAALW0GaIWPgIoEpBf/+2qZYBFH5IGYBqs5t7L1m\n",
       "vR8b7w+hKOUcxrVGFGyLjHPEQhveX/JuKR3z8ZqNvG/i1ajMPviv9bbaZCN+d0Zf23uTYocuxN01\n",
       "0f3EqdpOuUFy7i9Goo0JjlmirZmaaqA2fvhK6YkoVv6QgA0xgOTZcSXXerIs0C2VpI/fLnntDaM+\n",
       "76NqDATjSWADS8qECCSjgjco2DLYB8D961tbYzL/ToeZUX6aAKPSsmcu6eDJqDpnR/a36WPwyElJ\n",
       "m5UniBVXsbi2t/Xb/yxliZu9ePkJJnGM/0HrNMHcl80kROKmV3Xn6CiUwNJWQ7Ldcux1euE7If6J\n",
       "+VnJTOsaPndpQYeaNj9DfSaAYJfn3K6+jzK2hr+ETBnYnpFo20tPVaVbUP01PunA6d1jIueDmrFR\n",
       "NUJxDPVZ0t2bDC5+IYGK3797vM6p8wh+b6jYCThPzve0LJ0So2hDINEs/hYfuPm/HhFw2olAyT8g\n",
       "ujv3vNQnbAt3bDOfb3GOEIycLuCZa1Lyl1DVlarKoEqETmWJehYB8SPScZ+AJNdkooF2f3KfW5LP\n",
       "HYQvVpicR9reyZXo8RZBdlkFcUzQPeQ6q7mzGu/gWCgt54Ct0Mfyw0yRTFejTyZQ127Wg28eGv4g\n",
       "B8lm9lli6errPQ/wKk76pj1OOP4OypUPSjIeFKkiUDdk98ULNijTpoUDPjjktALBc561WIHp3irM\n",
       "8JF0gCy6UXtFgFLTZsd+AxZbqh2YCFggMyQ5Yd/c08qYV/JX3Nb8rjEhks0WMfXGUYwqoeO8vu+9\n",
       "9Ab0mFa6O8jg4JJkOPymnPsLF5SSjlIkQmoVar2i1jGw7uK9gdjvIXuBxajYsZZE9Gz0csaZJZdG\n",
       "rsR1HqQG3ENYcuXrsqj4/PVvT1ch4cytEdgqzsKxEmZUKke5oCeUckACDEenTQAMy9fY7Gv9uHq2\n",
       "JYeDh7NhuDFH8/BkGhhS4Zbp+jIuAjFt/80BEQXzmM8fgac36tHMe3V3ZBvuU0WTYt2E+LN5AeZi\n",
       "b7gB+od+bQTSVTYYsYgJv1DhFDBuW4nFohlCyUjdyu7C+gCuAAk+fC9GDIb0wlUk0CmHaRdvzHSj\n",
       "GeDQFqNqmvJ4bDHgGcQmfE9iJdIT3sqyZbox2i4qqTk4oB5cLlAWh0kp5AaH5iCjzbh+U6wG3uvA\n",
       "hiY7wsyp0Q2oSlot0R4SKGBzKFdMLlr12p+w4x9I6s/ZY+5a9iQPRyb8DfCFOrvmLwydo1jv6ela\n",
       "HewPMblUiRnVfGoiAWK4xq5HskF8afmlB270Lat+cAH56jGhGBlzx258edsYjoVEA3J7HE3jLqVc\n",
       "XElZtb/qcf4oHwl3/LwkYIatziHNRbeWeP9tjoIVCaG2wVDuTj+/HvhXmb/gpK6gdG1hv1orKWeV\n",
       "OQaUWTxuAZ/V4bab55dvFsw8LEotD6Q61oMYS8ycsforgNF+t1pQBWmbCbdxcP8sgb1Lj0S8cBcF\n",
       "ll+h5/OTvZLcJRx9ay6RJKzwyBujFMZ3qwhldiccXPyEXYkQBjU57i1YLvghxguGX2Bt0cLLDJAC\n",
       "6fJTFNUwIxs8S14b1N+5v7f1vWBUTIey3gbFkOa1fDqFdN4Q8g2Wa/q9scUwdfSjtweGY6PDWqgx\n",
       "TKVrVU9ln6DN26qaR2u8Q5CwMoVpP9sh3u+vs2TzWX5AytvJyyg8zBtR1w9/qCrRDFZdXbrhGOOe\n",
       "CEdM12dtvbjJhv0kB6z66U/edYf0klC7A0JQmww93wIA6LGqyf8b0Td8QT07IbuuRJsJhRms2/fC\n",
       "+My1C2r1rLL3H2svWCNx5VmFanK1RG/balI6pwPXuXFs7paYhBuyajhZ2R7CoQiuSrM2lT8hVKsq\n",
       "FDwdQ4jI97PC96ArEBrNGNAbOli7hNL6c04ikLSp9OUl8lsBw8XhfjEG0xkiZ0fJehPTb6T5I9Tv\n",
       "s/NfQmM734j+Z0YhPyC30KqOqbsOzokgVUpOteG055pt+7YrF00W4yFNWmw3tMVt7b6qZ6hvmOsM\n",
       "f1lpPBwhLNXA9GVg9gon5+p9USyEr3nFPYwxUrnnr1FYnT7y4rTxmiDYkuwpRQVybXr5XSj6AtUz\n",
       "cE9FHy+wPb4o4T/mT0FGDrvv6d1WUBdsotXj0QyCjoTAIjtO1kPL2rv80T8FM+IKNhLgpqVMPJjP\n",
       "1xRYbGTiFerybD8x7RvhGJmmk4eVScWMz5uArhzs3DJ8ozn/v3nzyz//a3kB2lpCCwuP/aIQhmTK\n",
       "sqp+LS8ezaikcy2yGliKiBldF6cRNBe361nsGco3uk/WFkDlKPel/E8UIFbCIDXf2t1+PLgftUCQ\n",
       "uwbAGjdh6jQFYSlnvrOzKmA5VnDnWTHfVRH9DK5X4hUy9pBwzbSIuAFNH2d1xniEj/Xo9Ifsy/F8\n",
       "9A1FVY3KdLv7I+5pMWiG8rY04rjPB9IvTtyU6WYfSM85P7UIHS+gEKnzum2q+ryov1e9xwOAnStP\n",
       "3A6CgnbsPzTy5JdsOkMvrAa8acCwuFyuhlIndNaCu2Rh17wCSd76PGtPCFcZuechOWdcCsIHruhK\n",
       "61sa/UDki1XcR6mPli4TbgpBmocsZTZmWhOOlaQMx7Yffh/hvhIIufkepYQBOwBOcLLQyQCGLcd1\n",
       "2cX7po4MA0ZlnE7aHkCCvFdVw6uxHUIlEVFDens12J4XEpYJG0ZzMXt50rVZOhFKTmwWUmA3wGYk\n",
       "oww4tLQhbOD6fHAvBQxBVtu4sqvmysS4PFchqyaOrBL0M8ggUiBLrxFjhBQDUAGNGqU8RQvWEe6D\n",
       "CWTtTMAV9y9XQXqmYDpUHbJbgFOMvI/SavFTs7QYRHmoTn0hqCnQLwbfHcm3f7cku+DlLXs5Hfvo\n",
       "T45OfM3gpmwZpFRspUtj19i789SoDz5vCeXYQBjSraBS51M6pZqZkg6mjICzMfA6YGe+dJyeBla8\n",
       "qP6XWM+2IMJV3NQXw/TAN4G2vM5Dp2P6YzOTbWsIWhfEZ1DyrFjbUuzbD3Mrfq+7nlYHJcH1AXiU\n",
       "DDQW3vrSIdKl8ZRAPiTsc1hTx+x35bBJgpH5r//g0puqxK9DnMDRGB0527iJkKjLjbytZkhU5GKj\n",
       "DQx5EYAUg9md0WFVUg1Pp5S/eNZR8K5M7L96RHFONYNqbOqMhhJy73QFumvuOd6XrRgp0ebHstE4\n",
       "ih6ZREKQ2hMQh9yWEwqnROz8UAJRDIm8aU2L4iaIyc4QShAy9NzSqh+ePqthSnBROR2oH4DSiLZg\n",
       "ZtOwHtyxQGNF3fs4CwjzGyf4o090XLvr6FjLS2ZCqxRfeQh1fu9OwmaJI1+74xgMD01BykYaScAx\n",
       "ooReWo2DZXLZJTnzfwjcFaFFxsLgOw8u4f7m6I7J6DFGXIO1RPD2p+jwWi+DVyY23oPdcWiHHFZ8\n",
       "d006IjPPKJOJ64yZW+hJXyiK/ihTXLBgzP+Zrs/SuD1/pHblHu588mm5JvKPuH1jMRDjaiqEVZd5\n",
       "r7qXX+YuwvZhWdVfzW+BfSKNUwfEZxU9gQO2WJOw5eMe/+4AJaOr2CbbFC4HJ76cKV7a493AN84r\n",
       "Qr9H49Yc4/v0i3jQgWxb4ppzP6syefggqWfALOn849EgC+2ewdhicc9UBvY2rcgc0uDkB+uSxeBU\n",
       "o0OQQkXEoRlxYK05U2QfO83arTA5G90Hbj4YhRhB3E10rZ1aIeRYMkvqHndeABA+P7KF4Jtsy0ZV\n",
       "/zqftmWfof6k7jEo9XJssVM7Zik+LtdTlqF3EHFCiL5phKYGmMDfIV9FiMOBrjVWFC3CAOFOkF+M\n",
       "pUnrjUQE3ltARJk1fmiVw0c9KciA5Z/BBRGGpMRr6CtnmTP9TmJ1GNFSlXT6fKDNAa7AXlcWyEl9\n",
       "WcojRur5S4+eyLZU9AGPaG3LzfZH6vS5zFhkjwPjwAAACrNBmkNJ4QhDIfARQJUBFAnAgt/+1qVQ\n",
       "BFDGayAJlcYb0kMecLSwkFk/fdy7OkAOz8yoWoH42Ai0b9D1BmhZ/DWqStzv+2AC7EnXHVCACSXu\n",
       "zOPT/RP/rCOQC3DOiq2E7FtMfni5Y61+z5s7RgwPZ7efTjxn8pQBaJHvTDWsHJZ9wsZo+iQK1o5z\n",
       "y8qnec42CNFPbSjCg56RCbf0Wpmx71i10nidXI2xO0Di5IYqvUuTW2j4vA7Al0KSUQveOPBlseLl\n",
       "2lNcmHIl88CafPqlEdh159J4t6fUNvqAeyLC6FHmj6e+2jEMYyRzMgdsxyO2Ryhu4NAzFby2G8Iq\n",
       "gwSSrnXswABZrNmke/Nmb7RE5hWCzEuKRRb0U1UzCpjypMK+a472aFO5P2xPRGyl0++I/vBk1nNh\n",
       "lnbCuQ+3av8yh49ig0jfWeTHuLwD4IKjy2FrMbosMrVwRML3fLXXy8OAHrLTxPkWpz3ucxUZ5tKA\n",
       "mALg+BJxDOSx+vZ3NGSsPbVcaEJ64fg13N3at9Qp57UTcu2mLlFGradcC8MhY3AM7ySDi1Oqlq4I\n",
       "lCS8XytBEagy31Obxzl0ppwCNS9Iz3oJG/7j7TMZROa+LFBt8OiBH5NeuFuF6XeB599JT18pvv3x\n",
       "KojUf3I5fXSOyKOT04L3nnAHq/sfXaUYBbEtjei8KMhl6vPjEQcoQelXnzhiyV7Tw3xj88FwBLWW\n",
       "gakPqzdXxksPJzEczXWpK27j44z3oa3GLJEDBI/8mUAaireG8sGYSFjUMCFPs/eudesIfZxhVD4z\n",
       "MxJ8ky9PzWRpNPVe8YIKXJayPsL8DamLLZO8U9vjsgs8fswQ7yp4QGa/ufUqSKsIfW1L14OKKRA3\n",
       "dYbTm06KC6ucKAPue59Z/NgS9Qx7+An4RQVOJDORu5obl2ru66yOFA0KJKo9rG3j11zhCNTyxLeN\n",
       "mz9x24DX4ZD2eaX+9VOHxtddUCZX0+YNIf+PKFPcI0qFysF80jdgXFqfkteYHqOz8DIwGSmBfFqk\n",
       "0i1LVfpXeRb6iG5RRkTVdoxkrm21ijvoITpnt7Xwqc8nshgwIc/J0uO07L7duZMHdlxsnvn9/lE4\n",
       "lQrQYFOOmb91hZdYvzjfgrkQOQBRedvy7M09ZPBy7D6rcdvGVA7OleRefosvfhFjRl346mAGEUlg\n",
       "M1Ql/VDzYfjKM0XKgFMLVfpqUGPY7BdeAMSIYLEhgzfC26VcznctO921lPP5MQxUN5UqrbeLW5uz\n",
       "jBYyL//V0oorBupB1HCohk+S52fx+BMXeRVapNxwtOvjrSzByTq0DChXa6vrsxzGra4wIhR1KuDp\n",
       "XrgMEADQRmQKslkzP0Ox8Ro1rVGwrZgHu/8NCXzwY9xm2HpQAeumf33QX4UPjy7T4yrnzmpbFDgj\n",
       "gs4GyHSglqLXF/80mrDRYqqDeSmuWlKUI+TZ2R9nc/6xsrXVcPsI1V2jHHS5X4TRvIH5htEFvD8u\n",
       "3qBA1gO8vgYlAdJ3xbQ9weuMwii2Gn++hEvfiJD+NPzUtr3ZAMLB4AsRikfVB6ToliLY2NBaaQuX\n",
       "g4hhCANlvM40DQMWKwWV7BicfjyxIoMimdeRevYNf5LV6Ajxr29Q5u/IALWx7qF22uVWyZNVRta/\n",
       "bERcdAVCYO2gqaWnHLNMDWcuUArM7AXf8f7kxiPaNqOk+whZzUhCfnQH1UOO/j1IQ0VxahQFSRqa\n",
       "oKqD7f5RnK/L58bQdtvb6CPso96BvEpSxP1LRpH6u95tfLUnsghfPsuVIT/VnMSo6oJU9MpDg8h+\n",
       "s2hpxAwhCPunzWVTJODFrn+sHAGsYb+oyAteUQzagkOGlQHMbdcgZWvX2QuK8kz2EraVmMHuUBuK\n",
       "xakDDwnX1YOAFc4Z0RBR37Dql2EpceuAieSzp1MJ+o0VFKCAGFceulAXSQ0CBtnpdAABNJhbdEHo\n",
       "+tOr0AlC5t/tSkDwAHwoK0qeNOOT8kwCWByuxhR/bNMreRCLuzunBfSG+x2OfOfgZP5vb1Z4e1Ln\n",
       "e7mSNLPtA5NR9afdwQvq8ogil99ImLaRSKfcVF3ZPGVhp3MRpNEhiIQcCrJKTL93p1SfdBGQYdVH\n",
       "no4LlkN8y42f+tpwyGvPy21mhC98E++DR6nDAmG17+Dgo7z6IwvSYaYHs2ty7X4r/+h/gw6ByZOJ\n",
       "XXBSjkM7qf23gIi174o3e5Es+kMrWOi3Yh2WQxSLRgoX5yAyW1suQfnExcITF8C4cmMz70WQhZNX\n",
       "jXJUPUhD1I7PGv1WRqyrBBCmGMPtVzF8Tt0X5LMVIUbyP1E63bjRncc88gOpulATPPaODI51Hr4N\n",
       "zMW3ISu9qhDZ0C0YPcYY9QrFSPXuYN+5YYYeN2DWgqbG7F9mlnCmiW3gVDV7cUGW3+KPpN7rtTd7\n",
       "352VX3E5W4UGv6ZHZfrbO4xNoyI4DzFaIJAfr1O3g4C4SEgyl9SL98wL5Rj43/fx17huZzzINZZ8\n",
       "o5sjylfmvNd+xVUvWGualLPccHY5kk5DQomXjp0U3SuBEGotOcq/WDijAwhTLPRlfF8nNFvD8YCy\n",
       "w4eHnaf4e+HHCkAg1Acj2Yzrp9Mxcy6woUcLmdsl2A7ETggHbF0bUXHhvjvRlCrGfd4tJb2o1Hm+\n",
       "65iLAOX6qYBLs2iZT30fLOJyKeWjB3y6BtGeCf7EDjyUY4D6yOc8Fc5jh5A86R+FJmPh550LMpfP\n",
       "6RI6FuBltL8eWIHljmZsiS4fVr7QmCZRySZSkOFq9dfTr3jCYAzhpGFMxpdXOtzRDGrzsQeROEJb\n",
       "PpY0fXvl9EY4ETRouWkCmSTCVZ8PbDe91pMa4dF2dzR5sHKjNdoRGCQ/1xGt0apMDVcrGQKprYgd\n",
       "HCJ6wFgrwKFJegW0MEs8IIz5g5g8Ay5QHUrXc27LY05pCDnoFSsWI7+rra2Iw7TSawv4o559xzP/\n",
       "NAbSMBQnMnlYrD48gdpur/3rWPsPB+9Redh++EBTlwfOK6zlMgO452LHqR8qmFgUK081LWelwzVO\n",
       "cJC/yRfRMOyfDfeIOixylq5c1VjiB1fzWE2ZmNzY0jMC0bp2LApGPmxD2rvtmlXy9GerdF+xSDhu\n",
       "TF+1NH2qKJB2k2aLsClyaS6vj0g5vG/3J9WGhPDWoYePt3IKGFElewXvEiMlSWayGMfsxjdl6Ge5\n",
       "qYnGXphBzHRSVMBJwXAbHDEzHVx7VT8xwJJrna/NRDbEN0S5zj9LXyZaJzsRL+jhVS+95pev9Tta\n",
       "/y9oFIxLufwKF0LpLHtYeJpsMtnh4nojoZv0+oC6TBdUpkfH4ZAfPg3HJ7Ovpx6EMuv5zF3O1cFM\n",
       "n1z9NSOsg8a3VoAlWKhZNBXhrvbrV4jtmF2hhD9fAhrEwt+Ca+QyGirCdrQihDzxg3YyQIFweDF9\n",
       "j5ol2KfrvRQR54K31K8tnR12g4pNu/SiPL7BCOHf0vGX8YHYemXfSwDQLQH0D+VRWxPYdOPXLs/Z\n",
       "VzxgAhrKt9n0kbWf+swqmeTsuchNkQ/ZkRHCuOdnmqMElEtghZSKdO9urNrKkCmIdMPn9fvrBUv5\n",
       "zvHtdZVWJriazvx62iHNhKZSfcgchJnsQ/7DLQLNoiro1/2XWK5AtG5TrqpyjMrr7G8iay6uL56j\n",
       "jcrbra2a5BPGgYKcBr5hon38MuvwQN9i7psQvljFatGQApEFU/EAAADWAZ5iakFPAAJZWtzfed0A\n",
       "EqSIzq9Rt605QU1iUBz09XzMuHRizF3HX6hQ1/X8qBbIGCWO/NoOKPGwgdVBOTdsvUSmAT4Rsu0S\n",
       "Kny0FPSTEz4Qx0hSC2S90y8qMMvxMdqi+w4NuJHr5vavXaLm9AWPvBZMYmpsRzBNgyYT703R9jQS\n",
       "7eK75VUVw7sReXIvZa4ThCRuKr9EsX/CACsFWyTWjtF9p1gmv4UJEsoSZd0AOhMdsq2NF18s6xEC\n",
       "pi6BlA/Hn/WcjZvN13gHU6czCvW/FRPAYzp2QAAABEpBmmRL4QhDyHwEEJQEELAIK//+1qVQAb7e\n",
       "vR0O7wSgAW9v53rXuvSrXQjHWDryN6r8n7eOlrv6AfWdSs7bMy1c1FZHarwCCay9/wPNm5LR1Z1c\n",
       "fyLDz7VfQrDOmzgqqPzwNN7WzQnCthdxiFL0k6tbJcb7+ZEOZ7xKz8E5jjwh8NLUIc+269XmRYX4\n",
       "AGEr0vNQgwNcHGbRrGxzR8jYslZSvbn+pCmjvXst9ZAVkPE6yQoNHSLv9zzVZpeGjv+58OGBZKpy\n",
       "eFHtKlCX3XXdZpiZdrexnC8y0T9Ygn1qy05ZjH42DnlWa8hgilbPvydG4fb1cYjwoSJvA9Qad3Pu\n",
       "XV+S7nBc4AoTQnuGeUjFlTBh2zYW6XmfmWpB4m1+U09lm4f0gfokj9UkYU4A1++WXx7wynwdWFIv\n",
       "+ciS9huCR4hKDbnJCI8Dm6BrRLiEItVWFjmKdBAES9zG5s1j/gW+R/mBzYcHzOsADAnhp9J0jPuM\n",
       "uRZxulRPZOu+rPSbrDBIjcIeApMRPFMB8uq3rztL89IX2m62Zb45BlmiDYvLvNWR+W6D+OoYprry\n",
       "oRcjcNYh5L6apMFerIIucHe/gP6ViaH1uJbgKEeMj1yqtDOihFd1WD3mzyC8yY/5w7/z1CusxTcM\n",
       "jCb/BqMOUzEpNsb+VABjzV+l50Nge6eBHaINKiakoNvLkLCZuG3sA6upWGgyAkpTtnPl7Tm112mq\n",
       "iSRp0u1xQdDftTYVyi7K+PdQC4Vb9UsfV8kgKl/cZFOuYyoLUBXMQRMJLotl/7y+yqbKg1pISGhn\n",
       "qwtNImb275fDTzgHqxVtE06+VYNg6Mren2WPOz1bPihWBJELJTXDuhm696aZynbYPSCJjLesl+Vd\n",
       "Dbe16y5uQ5e694ACcIhH3eWFcVzb0+BpwwLigVF2J8q/1w7yBonntgFgNpdEsqaKtb9uojB8eNTC\n",
       "BucWmljrX5sQb1vNm2U0bcA9Mq1Rasr2n+tbDN9yL+SLkBneBI7bTC5IB0GXDcu9HlBMB//L0L/F\n",
       "pa27aa6L73sCZVKHk8dp58y9OIqFwqPxBuUCgmvYnYapFkrDj/Y+nx10+sf8mpZohx3ImPK5rQ1Y\n",
       "GfAyRVFHyXOZy9LUW7s1mbCy9rEMNGWyUSdD5oGtsN5k2J3WkoM1IF0tCcHP/6hPZF12Qfq+RoK/\n",
       "ncO0r+RiPmkzG31DV8sgC4gfla/czHg313aLaLVFXvIzFDvix1C8MKjtLt1QElft6exT0fVstqv3\n",
       "+7QvU90pq+2YtDuTCIcmFCSCft/2zN+U4Lj3jzu+KX+WTI6Bc+8tdUhNdRZR51zKhkPfQ00Qd5Yo\n",
       "MnDSaxX7e7GSP39z3qBwW38rxBKEZ/rqnvoCgj+6gjGk9Rw9shI4bInUP3KO8Zbd7PcSPuFQJWs+\n",
       "yUJ0701naFd2LcxfBjS9Ly+h63S3GTDeqzH8fiiBex3Q+cH/dkSK1pOpNBfGw5kAAANTQZqFS+EI\n",
       "Q8h8BBCUBBCwCCn//taMsAgtIwVrRdVs4gACd1K9o9O9L8U9oBr/nsXmGAG0PTINJOZ2Sp1265DY\n",
       "kiZwY9CvX80fTjHA79Hsto6KB5K7P9f3zsGj4QOLHzFY28OW9r2cyHM0425zUjsq3USfV5X9LWZL\n",
       "77ZWNiK2RGGAMH5BpD4bpgCUkajShrfCqa3QTXaEyqEjKER2mgRccNDxr3+A1zpa2D3VesQ/ZRHm\n",
       "CxEZFOoWtSc11GDoH2fdzMy/X5P9OxbMWy4b2QgLcSBAXU/6Njboo0t+fw2Villny10auAGYANpC\n",
       "rt9cAWPN5hET6rShTSuG54rkSnsT0hM6dOYtKbaxOuk33NU6bZ1N5TJrJ1QqJMH9QlyOD82zKrQG\n",
       "6hxYGbSZ2ieDDP1G/rDQYLpfqB9wVXnJeWGdMHkpsCi1TCsJHC8qS16JDjI5maNP/jLrXluQ5dx/\n",
       "g9PL1bYuPtfrBpYd//O/qBNilc6LzUvK9K1Un6QlYGJd+IodLWqzDE+5YOhFY9rJMStrhjl4lley\n",
       "iA3AXNwdf3WRGGvgHOyoNnrL66K6xjuX2uI1eW/ZC4k8Gd56dMkmsn3EgQ/M9+RXRDRlkqfmjqFf\n",
       "7aY8qw+HBxB13rdtgvoK87siDM6BuFHUfZ0Bd2o+a2m9vSyb/zPpWj//wpJCJoh9MPftFaK0bb+4\n",
       "Mg3AeFE1NyxbpZFrmJfb2wSfMEtNel550RLfjJadXsS3JD9kUGWi/aC3L+ENCtmM5hCruLS4gXeG\n",
       "feBbeCmel52wJc2uS54Pefrpn29lSGS86KqSm8beUy75e9ohxzTMsreNUERodxbsHyLqBbeZS/f+\n",
       "wSpJaxrL4VuJqZeFHCO7V5vipYEyRULIS5Z2+3pbXs8d68glL/zxyPJEkOyvo7hH7UDpLnhwmn5f\n",
       "z42WDoejH1oVbiLpzkV/ul35FBKX2yHU0sDgOakkIp4SqX/4u3IpESYa/Zvbaf1SuVVnpVeAZyO9\n",
       "w+mgVZC74EcKxJpqYarlu6SpF3zEO8ECxh/0Ey7iz7XnMmt//Vc0VxSnGgg9y5AHBeA4rl3XKXgf\n",
       "+lOg4m/976ZjGCCuJU/84B3IKtkStFgAUaOdoW/r4r+F8vnMxBJLaZQ3kAZuD2cAAANqbW9vdgAA\n",
       "AGxtdmhkAAAAAAAAAAAAAAAAAAAD6AAAEsAAAQAAAQAAAAAAAAAAAAAAAAEAAAAAAAAAAAAAAAAA\n",
       "AAABAAAAAAAAAAAAAAAAAABAAAAAAAAAAAAAAAAAAAAAAAAAAAAAAAAAAAAAAAAAAgAAApR0cmFr\n",
       "AAAAXHRraGQAAAADAAAAAAAAAAAAAAABAAAAAAAAEsAAAAAAAAAAAAAAAAAAAAAAAAEAAAAAAAAA\n",
       "AAAAAAAAAAABAAAAAAAAAAAAAAAAAABAAAAAAbAAAAEgAAAAAAAkZWR0cwAAABxlbHN0AAAAAAAA\n",
       "AAEAABLAAABAAAABAAAAAAIMbWRpYQAAACBtZGhkAAAAAAAAAAAAAAAAAAAoAAAAwABVxAAAAAAA\n",
       "LWhkbHIAAAAAAAAAAHZpZGUAAAAAAAAAAAAAAABWaWRlb0hhbmRsZXIAAAABt21pbmYAAAAUdm1o\n",
       "ZAAAAAEAAAAAAAAAAAAAACRkaW5mAAAAHGRyZWYAAAAAAAAAAQAAAAx1cmwgAAAAAQAAAXdzdGJs\n",
       "AAAAt3N0c2QAAAAAAAAAAQAAAKdhdmMxAAAAAAAAAAEAAAAAAAAAAAAAAAAAAAAAAbABIABIAAAA\n",
       "SAAAAAAAAAABAAAAAAAAAAAAAAAAAAAAAAAAAAAAAAAAAAAAAAAAAAAAGP//AAAANWF2Y0MBZAAV\n",
       "/+EAGGdkABWs2UGwloQAAAMAEAAAAwAoPFi2WAEABmjr48siwP34+AAAAAAcdXVpZGtoQPJfJE/F\n",
       "ujmlG88DI/MAAAAAAAAAGHN0dHMAAAAAAAAAAQAAAAYAACAAAAAAFHN0c3MAAAAAAAAAAQAAAAEA\n",
       "AAAwY3R0cwAAAAAAAAAEAAAAAgAAQAAAAAABAABgAAAAAAEAACAAAAAAAgAAQAAAAAAcc3RzYwAA\n",
       "AAAAAAABAAAAAQAAAAYAAAABAAAALHN0c3oAAAAAAAAAAAAAAAYAABoxAAALXwAACrcAAADaAAAE\n",
       "TgAAA1cAAAAUc3RjbwAAAAAAAAABAAAAMAAAAGJ1ZHRhAAAAWm1ldGEAAAAAAAAAIWhkbHIAAAAA\n",
       "AAAAAG1kaXJhcHBsAAAAAAAAAAAAAAAALWlsc3QAAAAlqXRvbwAAAB1kYXRhAAAAAQAAAABMYXZm\n",
       "NTguNDUuMTAw\n",
       "\">\n",
       "  Your browser does not support the video tag.\n",
       "</video>"
      ],
      "text/plain": [
       "<IPython.core.display.HTML object>"
      ]
     },
     "execution_count": 28,
     "metadata": {},
     "output_type": "execute_result"
    },
    {
     "data": {
      "image/png": "[encoded data removed]",
      "text/plain": [
       "<Figure size 432x288 with 1 Axes>"
      ]
     },
     "metadata": {},
     "output_type": "display_data"
    }
   ],
   "source": [
    "def update(num, order):\n",
    "    labels = dict((node, ind) for ind, node in enumerate(order[:num+1]))\n",
    "    nx.draw(g, pos, labels=labels, node_size=1000, node_color='lightblue')\n",
    "\n",
    "\n",
    "fig, ax = plt.subplots()\n",
    "ani = FuncAnimation(fig, func=update, frames=range(len(preorder)), fargs=(preorder,), interval=800, repeat=True)\n",
    "HTML(ani.to_html5_video())\n"
   ]
  },
  {
   "cell_type": "markdown",
   "metadata": {},
   "source": [
    "## Breitensuche"
   ]
  },
  {
   "cell_type": "code",
   "execution_count": 29,
   "metadata": {},
   "outputs": [],
   "source": [
    "from collections import deque\n",
    "\n",
    "def bfs_with_predecessors(graph, node):\n",
    "    predecessor = dict()\n",
    "    node_depth = dict()\n",
    "    queue = deque()\n",
    "    # use self-loop for start node\n",
    "    predecessor[node] = node\n",
    "    node_depth[node] = 0\n",
    "    queue.append(node)\n",
    "    while queue:\n",
    "        v = queue.popleft()\n",
    "        for s in graph.successors(v):\n",
    "            if s not in predecessor:\n",
    "                predecessor[s] = v\n",
    "                node_depth[s] = node_depth[v] + 1\n",
    "                queue.append(s)\n",
    "    return predecessor, node_depth"
   ]
  },
  {
   "cell_type": "code",
   "execution_count": 30,
   "metadata": {},
   "outputs": [
    {
     "data": {
      "image/png": "[encoded data removed]",
      "text/plain": [
       "<Figure size 432x288 with 1 Axes>"
      ]
     },
     "metadata": {},
     "output_type": "display_data"
    }
   ],
   "source": [
    "predecessor, node_depth = bfs_with_predecessors(g, 0)\n",
    "nx.draw(g, pos, labels=node_depth, node_size=1000, node_color='lightblue')\n",
    "induced_tree = [(pre, node) for node, pre in predecessor.items()]\n",
    "d = nx.draw_networkx_edges(g, pos,\n",
    "                       edgelist=induced_tree,\n",
    "                       width=8, alpha=0.5, edge_color='r')"
   ]
  },
  {
   "cell_type": "code",
   "execution_count": null,
   "metadata": {},
   "outputs": [],
   "source": []
  }
 ],
 "metadata": {
  "kernelspec": {
   "display_name": "Python 3",
   "language": "python",
   "name": "python3"
  },
  "language_info": {
   "codemirror_mode": {
    "name": "ipython",
    "version": 3
   },
   "file_extension": ".py",
   "mimetype": "text/x-python",
   "name": "python",
   "nbconvert_exporter": "python",
   "pygments_lexer": "ipython3",
   "version": "3.7.4"
  },
  "toc": {
   "base_numbering": 1,
   "nav_menu": {},
   "number_sections": false,
   "sideBar": false,
   "skip_h1_title": false,
   "title_cell": "Table of Contents",
   "title_sidebar": "Contents",
   "toc_cell": false,
   "toc_position": {},
   "toc_section_display": false,
   "toc_window_display": false
  }
 },
 "nbformat": 4,
 "nbformat_minor": 2
}
