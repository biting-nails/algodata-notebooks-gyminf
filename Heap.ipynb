{
 "cells": [
  {
   "cell_type": "markdown",
   "metadata": {},
   "source": [
    "# Heaps"
   ]
  },
  {
   "cell_type": "markdown",
   "metadata": {},
   "source": [
    "## Hilfsfunktionen zur Darstellung eines Arrays als vollständigen Binärbaum"
   ]
  },
  {
   "cell_type": "markdown",
   "metadata": {},
   "source": [
    "Bevor wir mit der Implementation von Heaps beginnen, schreiben wir eine Hilfsmethode, die uns ein Array als Baum interpretieren lässt und diesen graphisch darstellt. Sie müssen diesen Code nicht verstehen, sondern nur wissen, dass die Methode ```showArrayAsTree(a)``` die Elemente ```a[1], ..., a[N]``` eines Arrays ```a``` als Baum darstellt. "
   ]
  },
  {
   "cell_type": "code",
   "execution_count": 1,
   "metadata": {},
   "outputs": [],
   "source": [
    "import networkx as nx\n",
    "import matplotlib\n",
    "import matplotlib.pyplot as plt\n",
    "import math\n",
    "\n",
    "def _buildGraph(g, a, k, xPos, N):\n",
    "    height = math.floor(math.log(N, 2)) # Höhe vom Baum\n",
    "    depth = math.floor(math.log(k, 2)) # Tiefe des aktuellen Knotens\n",
    "    if k >= N:\n",
    "        return\n",
    "    else:\n",
    "        y = (height - depth)\n",
    "        g.add_node(k, pos=(xPos, y), label=str(a[k]))\n",
    "        if k > 1: g.add_edge(k, k // 2)\n",
    "        _buildGraph(g, a, k *2 , xPos - 2**(height - depth), N)\n",
    "        _buildGraph(g, a, k * 2 + 1, xPos + 2**(height - depth),  N)\n",
    "        \n",
    "    \n",
    "def showArrayAsTree(a):\n",
    "    g = nx.Graph()\n",
    "    _buildGraph(g, a, 1, len(a) / 2 + 1, len(a))\n",
    "    pos=nx.get_node_attributes(g,'pos')\n",
    "    labels = nx.get_node_attributes(g, 'label')\n",
    "    \n",
    "    nx.draw_networkx_nodes(g, pos, node_size=1000, node_color='#00b4d9')\n",
    "    nx.draw_networkx_edges(g, pos)\n",
    "    nx.draw_networkx_labels(g, pos, labels)\n",
    "    plt.show()"
   ]
  },
  {
   "cell_type": "markdown",
   "metadata": {},
   "source": [
    "## Hilfsfunktionen swim und sink"
   ]
  },
  {
   "cell_type": "markdown",
   "metadata": {},
   "source": [
    "Wir beginnen mit der Implementation der wichtigsten Heap Funktionen, nämlich ```swim``` und ```sink```."
   ]
  },
  {
   "cell_type": "markdown",
   "metadata": {},
   "source": [
    "```swim``` bringt das $k$-te Element durch Vertauschen mit dem Parent nach oben, bis die Heapbedingung wieder erfüllt ist. "
   ]
  },
  {
   "cell_type": "code",
   "execution_count": 2,
   "metadata": {},
   "outputs": [],
   "source": [
    "def swim(heap, k):\n",
    "    \n",
    "    # Solange nicht wurzel und Parent kleiner ist\n",
    "    while k > 1 and heap[k // 2] < heap[k]:\n",
    "        \n",
    "        # Tausche Parent Kind\n",
    "        heap[k // 2], heap[k] = heap[k], heap[k // 2]\n",
    "        \n",
    "        # Gehe zu parent\n",
    "        k = k // 2      "
   ]
  },
  {
   "cell_type": "markdown",
   "metadata": {},
   "source": [
    "```sink``` bringt das $k$-te Element durch Vertauschen mit dem jeweils grösseren Kind nach unten, bis die Heapbedingung wieder erfüllt ist.\n",
    "Mit dem optionalen Element ```N``` können wir auch angeben, dass nur der Teil vom Array bis zum Element mit Index ```N``` betrachtet wird. "
   ]
  },
  {
   "cell_type": "code",
   "execution_count": 3,
   "metadata": {},
   "outputs": [],
   "source": [
    "def sink(heap, k, N = None):\n",
    "    \n",
    "    if N == None: N = len(heap) - 1\n",
    "        \n",
    "    while 2 * k <= N: # solange mindestens ein Kind\n",
    "        j = 2 * k # gehe zu Kind\n",
    "        \n",
    "        # Wähle Kind mit grösserem Wert falls beide vorhanden\n",
    "        if j < N and heap[j] < heap[j + 1]:\n",
    "            j += 1 \n",
    "        \n",
    "        # Abbrechen wenn parent nicht mehr grösser ist\n",
    "        if not heap[k] < heap[j]:\n",
    "            break\n",
    "        # Tausch\n",
    "        heap[j], heap[k] = heap[k], heap[j]\n",
    "        \n",
    "        # Weiter mit Kind\n",
    "        k = j"
   ]
  },
  {
   "cell_type": "markdown",
   "metadata": {},
   "source": [
    "Mittels der Methode ```swim``` können wir nun jedes Array so umsortieren, dass es die Heapbedingung erfüllt. "
   ]
  },
  {
   "cell_type": "code",
   "execution_count": 4,
   "metadata": {},
   "outputs": [],
   "source": [
    "def heapify(heap):\n",
    "    for i in range(1, len(heap)):\n",
    "        swim(heap, i)"
   ]
  },
  {
   "cell_type": "markdown",
   "metadata": {},
   "source": [
    "Jetzt können wir unsere Methoden testen:\n",
    "\n",
    "Zuerst testen wir die Darstellung für ein Array, welches die Heapbedingung nicht erfüllt:"
   ]
  },
  {
   "cell_type": "code",
   "execution_count": 5,
   "metadata": {},
   "outputs": [
    {
     "name": "stderr",
     "output_type": "stream",
     "text": [
      "C:\\Users\\luetma00\\AppData\\Local\\Continuum\\anaconda3\\lib\\site-packages\\networkx\\drawing\\nx_pylab.py:579: MatplotlibDeprecationWarning: \n",
      "The iterable function was deprecated in Matplotlib 3.1 and will be removed in 3.3. Use np.iterable instead.\n",
      "  if not cb.iterable(width):\n"
     ]
    },
    {
     "data": {
      "image/png": "[encoded data removed]",
      "text/plain": [
       "<Figure size 432x288 with 1 Axes>"
      ]
     },
     "metadata": {},
     "output_type": "display_data"
    }
   ],
   "source": [
    "xs = [None, 8, 3, 1, 7, 5, 9]\n",
    "showArrayAsTree(xs)"
   ]
  },
  {
   "cell_type": "markdown",
   "metadata": {},
   "source": [
    "Nun stellen wir die Heapbedingung her und visualisieren das Array nochmals."
   ]
  },
  {
   "cell_type": "code",
   "execution_count": 6,
   "metadata": {},
   "outputs": [
    {
     "data": {
      "image/png": "[encoded data removed]",
      "text/plain": [
       "<Figure size 432x288 with 1 Axes>"
      ]
     },
     "metadata": {},
     "output_type": "display_data"
    }
   ],
   "source": [
    "heapify(xs)\n",
    "showArrayAsTree(xs)"
   ]
  },
  {
   "cell_type": "markdown",
   "metadata": {},
   "source": [
    "Wie wir sehen, hat die Methode ```heapify``` die Heapbedingung wiederhergestellt. "
   ]
  },
  {
   "cell_type": "markdown",
   "metadata": {},
   "source": [
    "\n",
    "*Übung: Erstellen Sie ein heap und verletzen Sie dann die Heapbedingung punktuell. Rufen Sie dann die Methoden ```sink``` und ```swim``` auf, um die Heapbedinung wiederherzustellen. Visualisieren Sie die Zwischenschritte mit der Methode ```showArrayAsTree``` und experimentieren Sie mit verschiedenen Arrays.*\n"
   ]
  },
  {
   "cell_type": "markdown",
   "metadata": {},
   "source": [
    "# Priority Queue mittels Heap implementieren"
   ]
  },
  {
   "cell_type": "markdown",
   "metadata": {},
   "source": [
    "Das Implementieren einer Priority Queue ist nun fast trivial. \n",
    "Die Funktionen ```sink``` und ```swim``` übernehmen die ganze Arbeit."
   ]
  },
  {
   "cell_type": "code",
   "execution_count": 7,
   "metadata": {},
   "outputs": [],
   "source": [
    "class PQ:\n",
    "    def __init__(self):\n",
    "        self._data = [None]\n",
    "        \n",
    "    def isEmpty(self):\n",
    "        return len(self._data) <= 1\n",
    "    \n",
    "    def size(self):\n",
    "        return len(self._data) -1\n",
    "    \n",
    "    def delmax(self):\n",
    "        # Grösstes Element (die Wurzel) wird mit dem Element unten Rechts vertauscht.\n",
    "        # Das letzte Element (welches jetzt dem grössten Element entspricht, wird\n",
    "        # entfernt. Dann wird die HeapBedingung durch \"sinken\" der Wurzel wiederhergestellt.\n",
    "        self._data[1], self._data[-1] = self._data[-1], self._data[1]\n",
    "        item = self._data.pop()\n",
    "        sink(self._data, 1)\n",
    "        return item\n",
    "    \n",
    "    def max(self):\n",
    "        return self._data[1]\n",
    "    \n",
    "    def insert(self, item):\n",
    "        # Das Element wird hinten ins Array angefügt. Dann wird die Heapbedingung\n",
    "        # durch ausführen von Swim wiederhergestellt.\n",
    "        self._data.append(item)\n",
    "        swim(self._data, len(self._data) - 1)\n",
    "        "
   ]
  },
  {
   "cell_type": "markdown",
   "metadata": {},
   "source": [
    "Auch Sortieren ist jetzt einfach. Wir fügen die Elemente einfach in eine PQ ein und nehmen immer das Grösste raus. Da ```swim``` und ```sink``` beide $O(log(N))$ Operationen brauchen, ist es offensichtlich, dass das Sortieren in $O(N log(N))$ Operationen geht."
   ]
  },
  {
   "cell_type": "code",
   "execution_count": 8,
   "metadata": {},
   "outputs": [],
   "source": [
    "testdata = [1,5, 2, 8 , 11]\n",
    "pq = PQ()\n",
    "for t in testdata:\n",
    "    pq.insert(t)\n",
    "\n",
    "sortedArray = []\n",
    "while not pq.isEmpty():\n",
    "    sortedArray.append(pq.delmax())"
   ]
  },
  {
   "cell_type": "code",
   "execution_count": 9,
   "metadata": {},
   "outputs": [
    {
     "data": {
      "text/plain": [
       "[11, 8, 5, 2, 1]"
      ]
     },
     "execution_count": 9,
     "metadata": {},
     "output_type": "execute_result"
    }
   ],
   "source": [
    "sortedArray"
   ]
  },
  {
   "cell_type": "markdown",
   "metadata": {},
   "source": [
    "*Übung: Implementieren Sie das Anwendungsbeispiel, welches die grössten m Elemente aus einem Stream sucht mit dieser Implementation von PriorityQueues. (Den Code finden Sie im Jupyter-Notebook zum Thema Priority-queues). Vergleichen Sie die Laufzeit.* "
   ]
  },
  {
   "cell_type": "markdown",
   "metadata": {},
   "source": [
    "# Teil 2: Heapsort"
   ]
  },
  {
   "cell_type": "markdown",
   "metadata": {},
   "source": [
    "*Arbeiten Sie erst an diesem Notebook, wenn Sie das entsprechende Video zum Thema Heapsort angeschaut haben.*"
   ]
  },
  {
   "cell_type": "markdown",
   "metadata": {},
   "source": [
    "Sortieren geht aber noch etwas eleganter, und vor allem ohne zusätzlichen Speicherverbrauch, mit dem Heapsort Algorithmus. "
   ]
  },
  {
   "cell_type": "markdown",
   "metadata": {},
   "source": [
    "Um den Heap zu erstellen, können wir die Methode ```heapify``` noch etwas effizienter implementieren. Wir traversieren das Array von rechts nach links und stellen jeweils mittels ```sink``` die Heapbedingung her."
   ]
  },
  {
   "cell_type": "code",
   "execution_count": 22,
   "metadata": {},
   "outputs": [],
   "source": [
    "def heapify(a):\n",
    "    N = len(a) - 1\n",
    "    k = N // 2\n",
    "    while k >= 1:\n",
    "        sink(a, k)\n",
    "        showArrayAsTree(a)\n",
    "        k = k - 1"
   ]
  },
  {
   "cell_type": "markdown",
   "metadata": {},
   "source": [
    "Wir testen dies für ein beliebiges Array:"
   ]
  },
  {
   "cell_type": "code",
   "execution_count": 23,
   "metadata": {},
   "outputs": [
    {
     "data": {
      "image/png": "[encoded data removed]",
      "text/plain": [
       "<Figure size 432x288 with 1 Axes>"
      ]
     },
     "metadata": {},
     "output_type": "display_data"
    },
    {
     "data": {
      "image/png": "[encoded data removed]",
      "text/plain": [
       "<Figure size 432x288 with 1 Axes>"
      ]
     },
     "metadata": {},
     "output_type": "display_data"
    }
   ],
   "source": [
    "xs = [None, 3, 7, 1, 8]\n",
    "heapify(xs)"
   ]
  },
  {
   "cell_type": "markdown",
   "metadata": {},
   "source": [
    "Der Heapsort besteht jetzt aus 2 Schritten. \n",
    "\n",
    "1. Heap herstellen\n",
    "2. Grösstes Element mit letztem Element tauschen und Heap herstellen\n",
    "   * Dabei wird der Bereich im Array, auf dem Heapsort arbeitet, immer kleiner"
   ]
  },
  {
   "cell_type": "code",
   "execution_count": 39,
   "metadata": {},
   "outputs": [],
   "source": [
    "def heapsort(a):\n",
    "    N = len(a) - 1\n",
    "    for k in range(int(N//2), 0, -1):\n",
    "        sink(a, k)\n",
    "    while N > 1:\n",
    "        a[1], a[N] = a[N], a[1]\n",
    "        N -= 1\n",
    "        sink(a, 1, N)      "
   ]
  },
  {
   "cell_type": "code",
   "execution_count": 41,
   "metadata": {},
   "outputs": [
    {
     "name": "stdout",
     "output_type": "stream",
     "text": [
      "[None, 1, 3, 7, 8, 9, 11, 15]\n"
     ]
    }
   ],
   "source": [
    "testarray = [None, 3, 1, 8, 11, 7, 9, 15]\n",
    "heapsort(testarray)\n",
    "print(testarray)"
   ]
  },
  {
   "cell_type": "markdown",
   "metadata": {},
   "source": [
    "*Übung: Geben Sie sich die Zwischenschritte im Code aus. Visualisieren Sie die Bäume, die entstehen. Experimentieren Sie mit verschiedenen Arrays*."
   ]
  },
  {
   "cell_type": "code",
   "execution_count": null,
   "metadata": {},
   "outputs": [],
   "source": []
  }
 ],
 "metadata": {
  "anaconda-cloud": {},
  "kernelspec": {
   "display_name": "Python 3",
   "language": "python",
   "name": "python3"
  },
  "language_info": {
   "codemirror_mode": {
    "name": "ipython",
    "version": 3
   },
   "file_extension": ".py",
   "mimetype": "text/x-python",
   "name": "python",
   "nbconvert_exporter": "python",
   "pygments_lexer": "ipython3",
   "version": "3.7.4"
  }
 },
 "nbformat": 4,
 "nbformat_minor": 1
}
